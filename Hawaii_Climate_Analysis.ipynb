{
 "cells": [
  {
   "cell_type": "code",
   "execution_count": 2,
   "metadata": {},
   "outputs": [],
   "source": [
    "%matplotlib inline\n",
    "from matplotlib import style\n",
    "style.use('fivethirtyeight')\n",
    "import matplotlib.pyplot as plt"
   ]
  },
  {
   "cell_type": "code",
   "execution_count": 3,
   "metadata": {},
   "outputs": [],
   "source": [
    "import numpy as np\n",
    "import pandas as pd\n",
    "import datetime as dt"
   ]
  },
  {
   "cell_type": "markdown",
   "metadata": {},
   "source": [
    "# Reflect Tables into SQLAlchemy ORM"
   ]
  },
  {
   "cell_type": "code",
   "execution_count": 4,
   "metadata": {},
   "outputs": [],
   "source": [
    "# Python SQL toolkit and Object Relational Mapper\n",
    "import sqlalchemy\n",
    "from sqlalchemy.ext.automap import automap_base\n",
    "from sqlalchemy.orm import Session\n",
    "from sqlalchemy import create_engine, func"
   ]
  },
  {
   "cell_type": "code",
   "execution_count": 5,
   "metadata": {},
   "outputs": [],
   "source": [
    "# create engine to hawaii.sqlite\n",
    "engine = create_engine(\"sqlite:///Resources/hawaii.sqlite\")"
   ]
  },
  {
   "cell_type": "code",
   "execution_count": 6,
   "metadata": {},
   "outputs": [
    {
     "data": {
      "text/plain": [
       "<sqlalchemy.engine.cursor.LegacyCursorResult at 0x252eecd6fc8>"
      ]
     },
     "execution_count": 6,
     "metadata": {},
     "output_type": "execute_result"
    }
   ],
   "source": [
    "data = engine.execute(\"SELECT * FROM measurement\")\n",
    "data"
   ]
  },
  {
   "cell_type": "code",
   "execution_count": 7,
   "metadata": {},
   "outputs": [],
   "source": [
    "# reflect an existing database into a new model\n",
    "Base = automap_base()\n",
    "\n",
    "# reflect the tables\n",
    "Base.prepare(engine, reflect=True)"
   ]
  },
  {
   "cell_type": "code",
   "execution_count": 8,
   "metadata": {},
   "outputs": [
    {
     "data": {
      "text/plain": [
       "['measurement', 'station']"
      ]
     },
     "execution_count": 8,
     "metadata": {},
     "output_type": "execute_result"
    }
   ],
   "source": [
    "# View all of the classes that automap found\n",
    "Base.classes.keys()"
   ]
  },
  {
   "cell_type": "code",
   "execution_count": 9,
   "metadata": {},
   "outputs": [],
   "source": [
    "# Save references to each table\n",
    "Measurement = Base.classes.measurement\n",
    "Station = Base.classes.station"
   ]
  },
  {
   "cell_type": "code",
   "execution_count": 10,
   "metadata": {},
   "outputs": [],
   "source": [
    "# Create our session (link) from Python to the DB\n",
    "session = Session(engine)"
   ]
  },
  {
   "cell_type": "markdown",
   "metadata": {},
   "source": [
    "# Exploratory Precipitation Analysis"
   ]
  },
  {
   "cell_type": "code",
   "execution_count": 11,
   "metadata": {},
   "outputs": [
    {
     "data": {
      "text/html": [
       "<div>\n",
       "<style scoped>\n",
       "    .dataframe tbody tr th:only-of-type {\n",
       "        vertical-align: middle;\n",
       "    }\n",
       "\n",
       "    .dataframe tbody tr th {\n",
       "        vertical-align: top;\n",
       "    }\n",
       "\n",
       "    .dataframe thead th {\n",
       "        text-align: right;\n",
       "    }\n",
       "</style>\n",
       "<table border=\"1\" class=\"dataframe\">\n",
       "  <thead>\n",
       "    <tr style=\"text-align: right;\">\n",
       "      <th></th>\n",
       "      <th>date</th>\n",
       "    </tr>\n",
       "  </thead>\n",
       "  <tbody>\n",
       "    <tr>\n",
       "      <th>0</th>\n",
       "      <td>2017-08-23</td>\n",
       "    </tr>\n",
       "  </tbody>\n",
       "</table>\n",
       "</div>"
      ],
      "text/plain": [
       "         date\n",
       "0  2017-08-23"
      ]
     },
     "execution_count": 11,
     "metadata": {},
     "output_type": "execute_result"
    }
   ],
   "source": [
    "# Find the most recent date in the data set.\n",
    "import pandas as pd\n",
    "pd.read_sql_query(\"SELECT date FROM measurement ORDER BY date DESC LIMIT 1;\", engine)"
   ]
  },
  {
   "cell_type": "code",
   "execution_count": 12,
   "metadata": {},
   "outputs": [
    {
     "data": {
      "text/plain": [
       "'2017-08-23'"
      ]
     },
     "execution_count": 12,
     "metadata": {},
     "output_type": "execute_result"
    }
   ],
   "source": [
    "data = engine.execute(\"SELECT date FROM measurement ORDER BY date DESC LIMIT 1\")\n",
    "datez = [list(x) for x in data]\n",
    "most_recent_date = datez[0][0]\n",
    "most_recent_date"
   ]
  },
  {
   "cell_type": "code",
   "execution_count": 13,
   "metadata": {},
   "outputs": [
    {
     "data": {
      "text/plain": [
       "str"
      ]
     },
     "execution_count": 13,
     "metadata": {},
     "output_type": "execute_result"
    }
   ],
   "source": [
    "type(most_recent_date)"
   ]
  },
  {
   "cell_type": "code",
   "execution_count": 15,
   "metadata": {},
   "outputs": [],
   "source": [
    "# Design a query to retrieve the last 12 months of precipitation data and plot the results. \n",
    "# Starting from the most recent data point in the database. \n",
    "\n",
    "# Calculate the date one year from the last date in data set.\n",
    "last_twelve_months_date = dt.datetime.strptime(most_recent_date, '%Y-%m-%d') - dt.timedelta(days=365)\n",
    "# last_twelve_months_date\n",
    "\n",
    "# Perform a query to retrieve the data and precipitation scores\n",
    "prec_data = session.query(Measurement.date,func.avg(Measurement.prcp)).\\\n",
    "                    filter(Measurement.date >= last_twelve_months_date).\\\n",
    "                    group_by(Measurement.date).all()\n",
    "# prec_data\n",
    "\n",
    "# Save the query results as a Pandas DataFrame and set the index to the date column\n",
    "prec_df = pd.DataFrame(prec_data, columns=['Date', 'Precipitation'])\n",
    "prec_df.set_index('Date', inplace=True)\n",
    "# prec_df.head()\n",
    "\n",
    "# Sort the dataframe by date\n",
    "prec_df = prec_df.sort_index(ascending=True)"
   ]
  },
  {
   "cell_type": "code",
   "execution_count": 19,
   "metadata": {},
   "outputs": [
    {
     "data": {
      "text/html": [
       "<div>\n",
       "<style scoped>\n",
       "    .dataframe tbody tr th:only-of-type {\n",
       "        vertical-align: middle;\n",
       "    }\n",
       "\n",
       "    .dataframe tbody tr th {\n",
       "        vertical-align: top;\n",
       "    }\n",
       "\n",
       "    .dataframe thead th {\n",
       "        text-align: right;\n",
       "    }\n",
       "</style>\n",
       "<table border=\"1\" class=\"dataframe\">\n",
       "  <thead>\n",
       "    <tr style=\"text-align: right;\">\n",
       "      <th></th>\n",
       "      <th>Precipitation</th>\n",
       "    </tr>\n",
       "    <tr>\n",
       "      <th>Date</th>\n",
       "      <th></th>\n",
       "    </tr>\n",
       "  </thead>\n",
       "  <tbody>\n",
       "    <tr>\n",
       "      <th>2016-08-24</th>\n",
       "      <td>1.555000</td>\n",
       "    </tr>\n",
       "    <tr>\n",
       "      <th>2016-08-25</th>\n",
       "      <td>0.077143</td>\n",
       "    </tr>\n",
       "    <tr>\n",
       "      <th>2016-08-26</th>\n",
       "      <td>0.016667</td>\n",
       "    </tr>\n",
       "    <tr>\n",
       "      <th>2016-08-27</th>\n",
       "      <td>0.064000</td>\n",
       "    </tr>\n",
       "    <tr>\n",
       "      <th>2016-08-28</th>\n",
       "      <td>0.516667</td>\n",
       "    </tr>\n",
       "    <tr>\n",
       "      <th>...</th>\n",
       "      <td>...</td>\n",
       "    </tr>\n",
       "    <tr>\n",
       "      <th>2017-08-19</th>\n",
       "      <td>0.030000</td>\n",
       "    </tr>\n",
       "    <tr>\n",
       "      <th>2017-08-20</th>\n",
       "      <td>0.005000</td>\n",
       "    </tr>\n",
       "    <tr>\n",
       "      <th>2017-08-21</th>\n",
       "      <td>0.193333</td>\n",
       "    </tr>\n",
       "    <tr>\n",
       "      <th>2017-08-22</th>\n",
       "      <td>0.166667</td>\n",
       "    </tr>\n",
       "    <tr>\n",
       "      <th>2017-08-23</th>\n",
       "      <td>0.132500</td>\n",
       "    </tr>\n",
       "  </tbody>\n",
       "</table>\n",
       "<p>365 rows × 1 columns</p>\n",
       "</div>"
      ],
      "text/plain": [
       "            Precipitation\n",
       "Date                     \n",
       "2016-08-24       1.555000\n",
       "2016-08-25       0.077143\n",
       "2016-08-26       0.016667\n",
       "2016-08-27       0.064000\n",
       "2016-08-28       0.516667\n",
       "...                   ...\n",
       "2017-08-19       0.030000\n",
       "2017-08-20       0.005000\n",
       "2017-08-21       0.193333\n",
       "2017-08-22       0.166667\n",
       "2017-08-23       0.132500\n",
       "\n",
       "[365 rows x 1 columns]"
      ]
     },
     "execution_count": 19,
     "metadata": {},
     "output_type": "execute_result"
    }
   ],
   "source": [
    "prec_df = prec_df.set_index(pd.to_datetime(prec_df.index))\n",
    "prec_df"
   ]
  },
  {
   "cell_type": "code",
   "execution_count": 20,
   "metadata": {},
   "outputs": [
    {
     "data": {
      "text/plain": [
       "Timestamp('2016-08-24 00:00:00')"
      ]
     },
     "execution_count": 20,
     "metadata": {},
     "output_type": "execute_result"
    }
   ],
   "source": [
    "prec_df.index[0]"
   ]
  },
  {
   "cell_type": "code",
   "execution_count": 17,
   "metadata": {},
   "outputs": [
    {
     "data": {
      "text/plain": [
       "pandas._libs.tslibs.timestamps.Timestamp"
      ]
     },
     "execution_count": 17,
     "metadata": {},
     "output_type": "execute_result"
    }
   ],
   "source": [
    "type(prec_df.index[0])"
   ]
  },
  {
   "cell_type": "code",
   "execution_count": 28,
   "metadata": {
    "scrolled": true
   },
   "outputs": [
    {
     "data": {},
     "metadata": {},
     "output_type": "display_data"
    },
    {
     "data": {
      "application/vnd.holoviews_exec.v0+json": "",
      "text/html": [
       "<div id='1740'>\n",
       "\n",
       "\n",
       "\n",
       "\n",
       "\n",
       "  <div class=\"bk-root\" id=\"faf09445-e17a-41eb-9e86-fe9e667221d1\" data-root-id=\"1740\"></div>\n",
       "</div>\n",
       "<script type=\"application/javascript\">(function(root) {\n",
       "  function embed_document(root) {\n",
       "    var docs_json = {\"477a174a-ded7-4619-b2ea-0dbe7dac9d49\":{\"defs\":[{\"extends\":null,\"module\":null,\"name\":\"ReactiveHTML1\",\"overrides\":[],\"properties\":[]},{\"extends\":null,\"module\":null,\"name\":\"FlexBox1\",\"overrides\":[],\"properties\":[{\"default\":\"flex-start\",\"kind\":null,\"name\":\"align_content\"},{\"default\":\"flex-start\",\"kind\":null,\"name\":\"align_items\"},{\"default\":\"row\",\"kind\":null,\"name\":\"flex_direction\"},{\"default\":\"wrap\",\"kind\":null,\"name\":\"flex_wrap\"},{\"default\":\"flex-start\",\"kind\":null,\"name\":\"justify_content\"}]},{\"extends\":null,\"module\":null,\"name\":\"TemplateActions1\",\"overrides\":[],\"properties\":[{\"default\":0,\"kind\":null,\"name\":\"open_modal\"},{\"default\":0,\"kind\":null,\"name\":\"close_modal\"}]},{\"extends\":null,\"module\":null,\"name\":\"MaterialTemplateActions1\",\"overrides\":[],\"properties\":[{\"default\":0,\"kind\":null,\"name\":\"open_modal\"},{\"default\":0,\"kind\":null,\"name\":\"close_modal\"}]}],\"roots\":{\"references\":[{\"attributes\":{},\"id\":\"1752\",\"type\":\"LinearScale\"},{\"attributes\":{},\"id\":\"1755\",\"type\":\"CategoricalTicker\"},{\"attributes\":{},\"id\":\"1783\",\"type\":\"CategoricalTickFormatter\"},{\"attributes\":{\"axis\":{\"id\":\"1757\"},\"dimension\":1,\"ticker\":{\"id\":\"1758\"}},\"id\":\"1760\",\"type\":\"Grid\"},{\"attributes\":{\"end\":2.6180000000000003,\"reset_end\":2.6180000000000003,\"reset_start\":0.0,\"tags\":[[[\"Precipitation\",\"Precipitation\",null]]]},\"id\":\"1743\",\"type\":\"Range1d\"},{\"attributes\":{\"fill_color\":{\"value\":\"#30a2da\"},\"top\":{\"field\":\"Precipitation\"},\"width\":{\"value\":0.8},\"x\":{\"field\":\"Date\"}},\"id\":\"1777\",\"type\":\"VBar\"},{\"attributes\":{},\"id\":\"1758\",\"type\":\"BasicTicker\"},{\"attributes\":{\"callback\":null,\"renderers\":[{\"id\":\"1780\"}],\"tags\":[\"hv_created\"],\"tooltips\":[[\"Date\",\"@{Date}\"],[\"Precipitation\",\"@{Precipitation}\"]]},\"id\":\"1744\",\"type\":\"HoverTool\"},{\"attributes\":{\"axis_label\":\"Precipitation (in)\",\"formatter\":{\"id\":\"1786\"},\"major_label_policy\":{\"id\":\"1787\"},\"ticker\":{\"id\":\"1758\"}},\"id\":\"1757\",\"type\":\"LinearAxis\"},{\"attributes\":{},\"id\":\"1799\",\"type\":\"UnionRenderers\"},{\"attributes\":{},\"id\":\"1750\",\"type\":\"CategoricalScale\"},{\"attributes\":{},\"id\":\"1784\",\"type\":\"AllLabels\"},{\"attributes\":{},\"id\":\"1775\",\"type\":\"Selection\"},{\"attributes\":{\"bottom_units\":\"screen\",\"fill_alpha\":0.5,\"fill_color\":\"lightgrey\",\"left_units\":\"screen\",\"level\":\"overlay\",\"line_alpha\":1.0,\"line_color\":\"black\",\"line_dash\":[4,4],\"line_width\":2,\"right_units\":\"screen\",\"syncable\":false,\"top_units\":\"screen\"},\"id\":\"1766\",\"type\":\"BoxAnnotation\"},{\"attributes\":{\"fill_alpha\":{\"value\":0.1},\"fill_color\":{\"value\":\"#30a2da\"},\"line_alpha\":{\"value\":0.1},\"top\":{\"field\":\"Precipitation\"},\"width\":{\"value\":0.8},\"x\":{\"field\":\"Date\"}},\"id\":\"1778\",\"type\":\"VBar\"},{\"attributes\":{\"active_multi\":null,\"tools\":[{\"id\":\"1744\"},{\"id\":\"1761\"},{\"id\":\"1762\"},{\"id\":\"1763\"},{\"id\":\"1764\"},{\"id\":\"1765\"}]},\"id\":\"1767\",\"type\":\"Toolbar\"},{\"attributes\":{\"fill_alpha\":{\"value\":0.2},\"fill_color\":{\"value\":\"#30a2da\"},\"line_alpha\":{\"value\":0.2},\"top\":{\"field\":\"Precipitation\"},\"width\":{\"value\":0.8},\"x\":{\"field\":\"Date\"}},\"id\":\"1779\",\"type\":\"VBar\"},{\"attributes\":{\"data_source\":{\"id\":\"1774\"},\"glyph\":{\"id\":\"1777\"},\"hover_glyph\":null,\"muted_glyph\":{\"id\":\"1779\"},\"nonselection_glyph\":{\"id\":\"1778\"},\"selection_glyph\":{\"id\":\"1782\"},\"view\":{\"id\":\"1781\"}},\"id\":\"1780\",\"type\":\"GlyphRenderer\"},{\"attributes\":{\"margin\":[5,5,5,5],\"name\":\"HSpacer02568\",\"sizing_mode\":\"stretch_width\"},\"id\":\"1741\",\"type\":\"Spacer\"},{\"attributes\":{\"margin\":[5,5,5,5],\"name\":\"HSpacer02569\",\"sizing_mode\":\"stretch_width\"},\"id\":\"1811\",\"type\":\"Spacer\"},{\"attributes\":{},\"id\":\"1761\",\"type\":\"SaveTool\"},{\"attributes\":{\"below\":[{\"id\":\"1754\"}],\"center\":[{\"id\":\"1756\"},{\"id\":\"1760\"}],\"height\":300,\"left\":[{\"id\":\"1757\"}],\"margin\":[5,5,5,5],\"min_border_bottom\":10,\"min_border_left\":10,\"min_border_right\":10,\"min_border_top\":10,\"renderers\":[{\"id\":\"1780\"}],\"sizing_mode\":\"fixed\",\"title\":{\"id\":\"1746\"},\"toolbar\":{\"id\":\"1767\"},\"width\":700,\"x_range\":{\"id\":\"1742\"},\"x_scale\":{\"id\":\"1750\"},\"y_range\":{\"id\":\"1743\"},\"y_scale\":{\"id\":\"1752\"}},\"id\":\"1745\",\"subtype\":\"Figure\",\"type\":\"Plot\"},{\"attributes\":{},\"id\":\"1762\",\"type\":\"PanTool\"},{\"attributes\":{\"data\":{\"Date\":[\"2016-08-24 00:00:00\",\"2016-08-25 00:00:00\",\"2016-08-26 00:00:00\",\"2016-08-27 00:00:00\",\"2016-08-28 00:00:00\",\"2016-08-29 00:00:00\",\"2016-08-30 00:00:00\",\"2016-08-31 00:00:00\",\"2016-09-01 00:00:00\",\"2016-09-02 00:00:00\",\"2016-09-03 00:00:00\",\"2016-09-04 00:00:00\",\"2016-09-05 00:00:00\",\"2016-09-06 00:00:00\",\"2016-09-07 00:00:00\",\"2016-09-08 00:00:00\",\"2016-09-09 00:00:00\",\"2016-09-10 00:00:00\",\"2016-09-11 00:00:00\",\"2016-09-12 00:00:00\",\"2016-09-13 00:00:00\",\"2016-09-14 00:00:00\",\"2016-09-15 00:00:00\",\"2016-09-16 00:00:00\",\"2016-09-17 00:00:00\",\"2016-09-18 00:00:00\",\"2016-09-19 00:00:00\",\"2016-09-20 00:00:00\",\"2016-09-21 00:00:00\",\"2016-09-22 00:00:00\",\"2016-09-23 00:00:00\",\"2016-09-24 00:00:00\",\"2016-09-25 00:00:00\",\"2016-09-26 00:00:00\",\"2016-09-27 00:00:00\",\"2016-09-28 00:00:00\",\"2016-09-29 00:00:00\",\"2016-09-30 00:00:00\",\"2016-10-01 00:00:00\",\"2016-10-02 00:00:00\",\"2016-10-03 00:00:00\",\"2016-10-04 00:00:00\",\"2016-10-05 00:00:00\",\"2016-10-06 00:00:00\",\"2016-10-07 00:00:00\",\"2016-10-08 00:00:00\",\"2016-10-09 00:00:00\",\"2016-10-10 00:00:00\",\"2016-10-11 00:00:00\",\"2016-10-12 00:00:00\",\"2016-10-13 00:00:00\",\"2016-10-14 00:00:00\",\"2016-10-15 00:00:00\",\"2016-10-16 00:00:00\",\"2016-10-17 00:00:00\",\"2016-10-18 00:00:00\",\"2016-10-19 00:00:00\",\"2016-10-20 00:00:00\",\"2016-10-21 00:00:00\",\"2016-10-22 00:00:00\",\"2016-10-23 00:00:00\",\"2016-10-24 00:00:00\",\"2016-10-25 00:00:00\",\"2016-10-26 00:00:00\",\"2016-10-27 00:00:00\",\"2016-10-28 00:00:00\",\"2016-10-29 00:00:00\",\"2016-10-30 00:00:00\",\"2016-10-31 00:00:00\",\"2016-11-01 00:00:00\",\"2016-11-02 00:00:00\",\"2016-11-03 00:00:00\",\"2016-11-04 00:00:00\",\"2016-11-05 00:00:00\",\"2016-11-06 00:00:00\",\"2016-11-07 00:00:00\",\"2016-11-08 00:00:00\",\"2016-11-09 00:00:00\",\"2016-11-10 00:00:00\",\"2016-11-11 00:00:00\",\"2016-11-12 00:00:00\",\"2016-11-13 00:00:00\",\"2016-11-14 00:00:00\",\"2016-11-15 00:00:00\",\"2016-11-16 00:00:00\",\"2016-11-17 00:00:00\",\"2016-11-18 00:00:00\",\"2016-11-19 00:00:00\",\"2016-11-20 00:00:00\",\"2016-11-21 00:00:00\",\"2016-11-22 00:00:00\",\"2016-11-23 00:00:00\",\"2016-11-24 00:00:00\",\"2016-11-25 00:00:00\",\"2016-11-26 00:00:00\",\"2016-11-27 00:00:00\",\"2016-11-28 00:00:00\",\"2016-11-29 00:00:00\",\"2016-11-30 00:00:00\",\"2016-12-01 00:00:00\",\"2016-12-02 00:00:00\",\"2016-12-03 00:00:00\",\"2016-12-04 00:00:00\",\"2016-12-05 00:00:00\",\"2016-12-06 00:00:00\",\"2016-12-07 00:00:00\",\"2016-12-08 00:00:00\",\"2016-12-09 00:00:00\",\"2016-12-10 00:00:00\",\"2016-12-11 00:00:00\",\"2016-12-12 00:00:00\",\"2016-12-13 00:00:00\",\"2016-12-14 00:00:00\",\"2016-12-15 00:00:00\",\"2016-12-16 00:00:00\",\"2016-12-17 00:00:00\",\"2016-12-18 00:00:00\",\"2016-12-19 00:00:00\",\"2016-12-20 00:00:00\",\"2016-12-21 00:00:00\",\"2016-12-22 00:00:00\",\"2016-12-23 00:00:00\",\"2016-12-24 00:00:00\",\"2016-12-25 00:00:00\",\"2016-12-26 00:00:00\",\"2016-12-27 00:00:00\",\"2016-12-28 00:00:00\",\"2016-12-29 00:00:00\",\"2016-12-30 00:00:00\",\"2016-12-31 00:00:00\",\"2017-01-01 00:00:00\",\"2017-01-02 00:00:00\",\"2017-01-03 00:00:00\",\"2017-01-04 00:00:00\",\"2017-01-05 00:00:00\",\"2017-01-06 00:00:00\",\"2017-01-07 00:00:00\",\"2017-01-08 00:00:00\",\"2017-01-09 00:00:00\",\"2017-01-10 00:00:00\",\"2017-01-11 00:00:00\",\"2017-01-12 00:00:00\",\"2017-01-13 00:00:00\",\"2017-01-14 00:00:00\",\"2017-01-15 00:00:00\",\"2017-01-16 00:00:00\",\"2017-01-17 00:00:00\",\"2017-01-18 00:00:00\",\"2017-01-19 00:00:00\",\"2017-01-20 00:00:00\",\"2017-01-21 00:00:00\",\"2017-01-22 00:00:00\",\"2017-01-23 00:00:00\",\"2017-01-24 00:00:00\",\"2017-01-25 00:00:00\",\"2017-01-26 00:00:00\",\"2017-01-27 00:00:00\",\"2017-01-28 00:00:00\",\"2017-01-29 00:00:00\",\"2017-01-30 00:00:00\",\"2017-01-31 00:00:00\",\"2017-02-01 00:00:00\",\"2017-02-02 00:00:00\",\"2017-02-03 00:00:00\",\"2017-02-04 00:00:00\",\"2017-02-05 00:00:00\",\"2017-02-06 00:00:00\",\"2017-02-07 00:00:00\",\"2017-02-08 00:00:00\",\"2017-02-09 00:00:00\",\"2017-02-10 00:00:00\",\"2017-02-11 00:00:00\",\"2017-02-12 00:00:00\",\"2017-02-13 00:00:00\",\"2017-02-14 00:00:00\",\"2017-02-15 00:00:00\",\"2017-02-16 00:00:00\",\"2017-02-17 00:00:00\",\"2017-02-18 00:00:00\",\"2017-02-19 00:00:00\",\"2017-02-20 00:00:00\",\"2017-02-21 00:00:00\",\"2017-02-22 00:00:00\",\"2017-02-23 00:00:00\",\"2017-02-24 00:00:00\",\"2017-02-25 00:00:00\",\"2017-02-26 00:00:00\",\"2017-02-27 00:00:00\",\"2017-02-28 00:00:00\",\"2017-03-01 00:00:00\",\"2017-03-02 00:00:00\",\"2017-03-03 00:00:00\",\"2017-03-04 00:00:00\",\"2017-03-05 00:00:00\",\"2017-03-06 00:00:00\",\"2017-03-07 00:00:00\",\"2017-03-08 00:00:00\",\"2017-03-09 00:00:00\",\"2017-03-10 00:00:00\",\"2017-03-11 00:00:00\",\"2017-03-12 00:00:00\",\"2017-03-13 00:00:00\",\"2017-03-14 00:00:00\",\"2017-03-15 00:00:00\",\"2017-03-16 00:00:00\",\"2017-03-17 00:00:00\",\"2017-03-18 00:00:00\",\"2017-03-19 00:00:00\",\"2017-03-20 00:00:00\",\"2017-03-21 00:00:00\",\"2017-03-22 00:00:00\",\"2017-03-23 00:00:00\",\"2017-03-24 00:00:00\",\"2017-03-25 00:00:00\",\"2017-03-26 00:00:00\",\"2017-03-27 00:00:00\",\"2017-03-28 00:00:00\",\"2017-03-29 00:00:00\",\"2017-03-30 00:00:00\",\"2017-03-31 00:00:00\",\"2017-04-01 00:00:00\",\"2017-04-02 00:00:00\",\"2017-04-03 00:00:00\",\"2017-04-04 00:00:00\",\"2017-04-05 00:00:00\",\"2017-04-06 00:00:00\",\"2017-04-07 00:00:00\",\"2017-04-08 00:00:00\",\"2017-04-09 00:00:00\",\"2017-04-10 00:00:00\",\"2017-04-11 00:00:00\",\"2017-04-12 00:00:00\",\"2017-04-13 00:00:00\",\"2017-04-14 00:00:00\",\"2017-04-15 00:00:00\",\"2017-04-16 00:00:00\",\"2017-04-17 00:00:00\",\"2017-04-18 00:00:00\",\"2017-04-19 00:00:00\",\"2017-04-20 00:00:00\",\"2017-04-21 00:00:00\",\"2017-04-22 00:00:00\",\"2017-04-23 00:00:00\",\"2017-04-24 00:00:00\",\"2017-04-25 00:00:00\",\"2017-04-26 00:00:00\",\"2017-04-27 00:00:00\",\"2017-04-28 00:00:00\",\"2017-04-29 00:00:00\",\"2017-04-30 00:00:00\",\"2017-05-01 00:00:00\",\"2017-05-02 00:00:00\",\"2017-05-03 00:00:00\",\"2017-05-04 00:00:00\",\"2017-05-05 00:00:00\",\"2017-05-06 00:00:00\",\"2017-05-07 00:00:00\",\"2017-05-08 00:00:00\",\"2017-05-09 00:00:00\",\"2017-05-10 00:00:00\",\"2017-05-11 00:00:00\",\"2017-05-12 00:00:00\",\"2017-05-13 00:00:00\",\"2017-05-14 00:00:00\",\"2017-05-15 00:00:00\",\"2017-05-16 00:00:00\",\"2017-05-17 00:00:00\",\"2017-05-18 00:00:00\",\"2017-05-19 00:00:00\",\"2017-05-20 00:00:00\",\"2017-05-21 00:00:00\",\"2017-05-22 00:00:00\",\"2017-05-23 00:00:00\",\"2017-05-24 00:00:00\",\"2017-05-25 00:00:00\",\"2017-05-26 00:00:00\",\"2017-05-27 00:00:00\",\"2017-05-28 00:00:00\",\"2017-05-29 00:00:00\",\"2017-05-30 00:00:00\",\"2017-05-31 00:00:00\",\"2017-06-01 00:00:00\",\"2017-06-02 00:00:00\",\"2017-06-03 00:00:00\",\"2017-06-04 00:00:00\",\"2017-06-05 00:00:00\",\"2017-06-06 00:00:00\",\"2017-06-07 00:00:00\",\"2017-06-08 00:00:00\",\"2017-06-09 00:00:00\",\"2017-06-10 00:00:00\",\"2017-06-11 00:00:00\",\"2017-06-12 00:00:00\",\"2017-06-13 00:00:00\",\"2017-06-14 00:00:00\",\"2017-06-15 00:00:00\",\"2017-06-16 00:00:00\",\"2017-06-17 00:00:00\",\"2017-06-18 00:00:00\",\"2017-06-19 00:00:00\",\"2017-06-20 00:00:00\",\"2017-06-21 00:00:00\",\"2017-06-22 00:00:00\",\"2017-06-23 00:00:00\",\"2017-06-24 00:00:00\",\"2017-06-25 00:00:00\",\"2017-06-26 00:00:00\",\"2017-06-27 00:00:00\",\"2017-06-28 00:00:00\",\"2017-06-29 00:00:00\",\"2017-06-30 00:00:00\",\"2017-07-01 00:00:00\",\"2017-07-02 00:00:00\",\"2017-07-03 00:00:00\",\"2017-07-04 00:00:00\",\"2017-07-05 00:00:00\",\"2017-07-06 00:00:00\",\"2017-07-07 00:00:00\",\"2017-07-08 00:00:00\",\"2017-07-09 00:00:00\",\"2017-07-10 00:00:00\",\"2017-07-11 00:00:00\",\"2017-07-12 00:00:00\",\"2017-07-13 00:00:00\",\"2017-07-14 00:00:00\",\"2017-07-15 00:00:00\",\"2017-07-16 00:00:00\",\"2017-07-17 00:00:00\",\"2017-07-18 00:00:00\",\"2017-07-19 00:00:00\",\"2017-07-20 00:00:00\",\"2017-07-21 00:00:00\",\"2017-07-22 00:00:00\",\"2017-07-23 00:00:00\",\"2017-07-24 00:00:00\",\"2017-07-25 00:00:00\",\"2017-07-26 00:00:00\",\"2017-07-27 00:00:00\",\"2017-07-28 00:00:00\",\"2017-07-29 00:00:00\",\"2017-07-30 00:00:00\",\"2017-07-31 00:00:00\",\"2017-08-01 00:00:00\",\"2017-08-02 00:00:00\",\"2017-08-03 00:00:00\",\"2017-08-04 00:00:00\",\"2017-08-05 00:00:00\",\"2017-08-06 00:00:00\",\"2017-08-07 00:00:00\",\"2017-08-08 00:00:00\",\"2017-08-09 00:00:00\",\"2017-08-10 00:00:00\",\"2017-08-11 00:00:00\",\"2017-08-12 00:00:00\",\"2017-08-13 00:00:00\",\"2017-08-14 00:00:00\",\"2017-08-15 00:00:00\",\"2017-08-16 00:00:00\",\"2017-08-17 00:00:00\",\"2017-08-18 00:00:00\",\"2017-08-19 00:00:00\",\"2017-08-20 00:00:00\",\"2017-08-21 00:00:00\",\"2017-08-22 00:00:00\",\"2017-08-23 00:00:00\"],\"Precipitation\":{\"__ndarray__\":\"4HoUrkfh+D8ub4xgor+zPxEREREREZE/+6nx0k1isD+IiIiIiIjgPyW/WPKLJc8/5RdLfrHkhz8mMQisHFrkP/p+arx0k3g/mpmZmZmZqT+oxks3iUHQP0SLbOf7qdE/wvUoXI/CtT+wcmiR7XzPP1VVVVVVVdU/odMGOm2gsz/TBjptoNPGP+tRuB6F69E/AAAAAAAA0D+DwMqhRbbTP+i0gU4b6Nw/C9ejcD0KA0B02kCnDXTqP2t5YwQT/b0/m8QgsHJowT+KQWDl0CK7P/yp8dJNYrA/jWCiv5PVwj/1KFyPwvXIP+c+u4DYVMo/I5jo72S1zD/lF0t+seSnP7gehetRuI4/0GkDnTbQ0T8DnTbQaQPNP+DJanljBJM/MoKJ/k5W2z+IiIiIiIjIP/Du7u7u7s4/uB6F61G4vj9xPQrXo3C9P5020GkDneI/f7HkF0t+wT+xqTTk3GeXP08b6LSBTls//Knx0k1igD8AAAAAAAAAAAAAAAAAAAAAcD0K16NwvT9PG+i0gU6LP08b6LSBTos/AAAAAAAAAACkcD0K16OwPwAAAAAAAAAAKlyPwvUovD+ZmZmZmZm5PwOdNtBpA50/QmDl0CLbyT/8qfHSTWKwPw4tsp3vp9Y/eOkmMQisrD/aQKcNdNrAP9VBHdRBHcQ/wFjyiyW/qD/Xo3A9CtfTP1O4HoXrUbg/TxvotIFOuz/1KFyPwvXQPy35xZJfLNE/7FG4HoXroT9PG+i0gU57P08b6LSBTms/exSuR+F6hD8zMzMzMzOzP08b6LSBTos/uB6F61G4nj/lF0t+seTHPx3UQR3UQa0/TxvotIFOWz8AAAAAAAAAAAAAAAAAAAAAAAAAAAAAAAAWX/EVX/GVPxEREREREYE/baDTBjpt0D97FK5H4XqEP7gehetRuH4/UrgehetRuD9nZmZmZmbOP4PAyqFFtuM/1XjpJjEI8D/0/dR46SbBP4ts5/up8dI/TDeJQWDl0D/D9Shcj8K1P3h3d3d3d7c/uB6F61G4vj9Z8oslv1iyP5020GkDncY/4XoUrkfh0j8s+cWSXyzZP+i0gU4b6Nw/ERERERERwT9I4XoUrkfhP/yp8dJNYoA/2/l+arx0sz/42QXEptKwP65H4XoUrtc/OrTIdr6fmj+amZmZmZmpPxEREREREYE/baDTBjptwD8AAAAAAADQPzCW/GLJL6Y/TxvotIFOez/sUbgeheuxP2IQWDm0yMY/7FG4HoXrsT97FK5H4Xp0P1EHdVAHdcA/WPKLJb9Y2j89CtejcD3KP0jhehSuR9E/arx0kxgEtj/qJjEIrBzaP3sUrkfheqQ/f7HkF0t+sT9jyS+W/GLZP97d3d3d3eE/MgisHFpk2z/rUbgeheuxP/yp8dJNYnA/AAAAAAAAAAC4HoXrUbieP0RERERERMQ/ERERERERwT97FK5H4XqEP3sUrkfheoQ/AAAAAAAAAAAAAAAAAAAAAAAAAAAAAAAAAAAAAAAAAAAAAAAAAAAAAPyp8dJNYmA/exSuR+F6ZD8AAAAAAAAAAAAAAAAAAAAA5RdLfrHkhz9PG+i0gU5rPwAAAAAAAAAA5BdLfrHkpz/qJjEIrBzKP6rx0k1iEMg/zczMzMzM3D+28/3UeOnmP6o05NxnF5A/RX8nq+WNgT966SYxCKycP65H4XoUrs8/ERERERERgT8AAAAAAAAAAAAAAAAAAAAAAAAAAAAAAAAAAAAAAAAAAAAAAAAAAAAAAAAAAAAAAAA30GkDnTawP6EO6qAO6vA/Lm+MYKK/wz+xqTTk3GdnPwAAAAAAAAAA393d3d3d/T/ziyW/WPL7PyS/WPKLJd8/TxvotIFOWz/8qfHSTWKQP61H4XoUrtc/aGZmZmZmxj97FK5H4XpkP1K4HoXrUag/AAAAAAAAAAA6tMh2vp+aP6VwPQrXo8A/sak05NxnVz8AAAAAAAAAADMzMzMzM6M/AAAAAAAAAAAAAAAAAAAAAH6x5BdLfsE/kML1KFyP+j9+seQXS37xP8kvlvxiydc/AAAAAAAAAABcj8L1KFzTP0jhehSuR8E/AAAAAAAAAAAAAAAAAAAAAOm0gU4b6NQ/ybnPLiA2pT/8qfHSTWKAPwAAAAAAAAAAAAAAAAAAAABFfyer5Y2BP3sUrkfheoQ/AAAAAAAAAAA730+Nl27CPwAAAAAAAAAAAAAAAAAAAAD8qfHSTWJwP7gehetRuI4/AAAAAAAAAAARERERERGBPxzotIFOG8g/nu+nxks32T8AAAAAAAAAAPyp8dJNYmA/TH6x5BdLvj830GkDnTagP7gehetRuJ4/TxvotIFOWz9/seQXS36xPwAAAAAAAAAAKVyPwvUovD8WX/EVX/GVP/9OVssbI7g/RX8nq+WNgT8AAAAAAAAAAAAAAAAAAAAAAAAAAAAAAABPG+i0gU5rPw102kCnDbQ/C9ejcD0Kxz9Bpw102kDHP+tRuB6F6/E/E4PAyqFF1j8yCKwcWmTLP9rO91PjpeM/uB6F61G43j8RERERERGhP6RwPQrXo8A/WfKLJb9Y9j9aObTIdr7vP3A9CtejcL0/uR6F61G4jj8AAAAAAAAAAKRwPQrXo7A/61G4HoXrsT+dNtBpA53mP3A9CtejcPU/H4XrUbge8T9I4XoUrkfBPxEREREREYE/+n5qvHSTeD/8qfHSTWKQPzfQaQOdNrA/exSuR+F6hD/6fmq8dJOYPw102kCnDeA/cBKDwMqh7T9Z8oslv1jCP7gehetRuL4//Knx0k1ioD/6fmq8dJOoPwisHFpkO88/ukkMAiuHxj/rUbgeheuxP5uZmZmZmZk/IiIiIiIiwj97FK5H4XqEP7gehetRuH4//Knx0k1iYD8730+Nl26yP0t+seQXS74/v1jyiyW/5D+vR+F6FK7XP/yp8dJNYnA/w/UoXI/CtT9/seQXS36xPxsv3SQGgbU/vp8aL90k1j+LbOf7qfGyP08b6LSBTns/m8QgsHJosT8IrBxaZDu/P4iIiIiIiMg/TxvotIFOiz8AAAAAAAAAAE8b6LSBTls/exSuR+F6dD/8qfHSTWKAPy/dJAaBldM/7+7u7u7u1j+rqqqqqqrSP3A9CtejcM0/v1jyiyW/0D/otIFOG+jcPxEREREREaE/C9ejcD0Ktz9LfrHkF0vOPyW/WPKLJb8/KlyPwvUovD9SuB6F61HAP8eSXyz5xbI/lfxiyS+WvD/8qfHSTWLAP7gehetRuL4/exSuR+F6lD/Gkl8s+cWSP3sUrkfhenQ/5RdLfrHkhz/gyWp5YwSzP6RwPQrXo7A/CtejcD0Kxz+LbOf7qfHCPzQzMzMzM6M/AAAAAAAAAAD8qfHSTWJwP5qZmZmZmbk/ERERERERkT8RERERERGhP08b6LSBTns/exSuR+F6dD+5HoXrUbiuP08b6LSBTtM/RURERERExD830GkDnTagP0jhehSuR8E/agOdNtBpwz+zC4hNpSHXP3+x5BdLfrE/YwQT/Z2sxj/gyWp5YwSTP5NfLPnFkuc/IrByaJHtzD8gsHJoke3kP70xgon+TrY/VVVVVVVVtT9PG+i0gU5bPylcj8L1KLw/BzptoNMGuj+4HoXrUbiuPwAAAAAAAAAA5BdLfrHkpz8zMzMzMzOzP+tRuB6F65E/uB6F61G4jj+4HoXrUbiePwAAAAAAAAAAmpmZmZmZiT8qXI/C9Si8P5mZmZmZmak/7FG4HoXrkT8AAAAAAAAAAOUXS36x5Kc/AAAAAAAAAABYObTIdr6vP8uhRbbz/cQ/hetRuB6Fwz9SuB6F61GoP3sUrkfhepQ/uB6F61G4nj97FK5H4Xp0P8BY8oslv8g/VVVVVVVVxT/2KFyPwvXAPw==\",\"dtype\":\"float64\",\"order\":\"little\",\"shape\":[365]}},\"selected\":{\"id\":\"1775\"},\"selection_policy\":{\"id\":\"1799\"}},\"id\":\"1774\",\"type\":\"ColumnDataSource\"},{\"attributes\":{},\"id\":\"1765\",\"type\":\"ResetTool\"},{\"attributes\":{},\"id\":\"1786\",\"type\":\"BasicTickFormatter\"},{\"attributes\":{},\"id\":\"1763\",\"type\":\"WheelZoomTool\"},{\"attributes\":{\"factors\":[\"2016-08-24 00:00:00\",\"2016-08-25 00:00:00\",\"2016-08-26 00:00:00\",\"2016-08-27 00:00:00\",\"2016-08-28 00:00:00\",\"2016-08-29 00:00:00\",\"2016-08-30 00:00:00\",\"2016-08-31 00:00:00\",\"2016-09-01 00:00:00\",\"2016-09-02 00:00:00\",\"2016-09-03 00:00:00\",\"2016-09-04 00:00:00\",\"2016-09-05 00:00:00\",\"2016-09-06 00:00:00\",\"2016-09-07 00:00:00\",\"2016-09-08 00:00:00\",\"2016-09-09 00:00:00\",\"2016-09-10 00:00:00\",\"2016-09-11 00:00:00\",\"2016-09-12 00:00:00\",\"2016-09-13 00:00:00\",\"2016-09-14 00:00:00\",\"2016-09-15 00:00:00\",\"2016-09-16 00:00:00\",\"2016-09-17 00:00:00\",\"2016-09-18 00:00:00\",\"2016-09-19 00:00:00\",\"2016-09-20 00:00:00\",\"2016-09-21 00:00:00\",\"2016-09-22 00:00:00\",\"2016-09-23 00:00:00\",\"2016-09-24 00:00:00\",\"2016-09-25 00:00:00\",\"2016-09-26 00:00:00\",\"2016-09-27 00:00:00\",\"2016-09-28 00:00:00\",\"2016-09-29 00:00:00\",\"2016-09-30 00:00:00\",\"2016-10-01 00:00:00\",\"2016-10-02 00:00:00\",\"2016-10-03 00:00:00\",\"2016-10-04 00:00:00\",\"2016-10-05 00:00:00\",\"2016-10-06 00:00:00\",\"2016-10-07 00:00:00\",\"2016-10-08 00:00:00\",\"2016-10-09 00:00:00\",\"2016-10-10 00:00:00\",\"2016-10-11 00:00:00\",\"2016-10-12 00:00:00\",\"2016-10-13 00:00:00\",\"2016-10-14 00:00:00\",\"2016-10-15 00:00:00\",\"2016-10-16 00:00:00\",\"2016-10-17 00:00:00\",\"2016-10-18 00:00:00\",\"2016-10-19 00:00:00\",\"2016-10-20 00:00:00\",\"2016-10-21 00:00:00\",\"2016-10-22 00:00:00\",\"2016-10-23 00:00:00\",\"2016-10-24 00:00:00\",\"2016-10-25 00:00:00\",\"2016-10-26 00:00:00\",\"2016-10-27 00:00:00\",\"2016-10-28 00:00:00\",\"2016-10-29 00:00:00\",\"2016-10-30 00:00:00\",\"2016-10-31 00:00:00\",\"2016-11-01 00:00:00\",\"2016-11-02 00:00:00\",\"2016-11-03 00:00:00\",\"2016-11-04 00:00:00\",\"2016-11-05 00:00:00\",\"2016-11-06 00:00:00\",\"2016-11-07 00:00:00\",\"2016-11-08 00:00:00\",\"2016-11-09 00:00:00\",\"2016-11-10 00:00:00\",\"2016-11-11 00:00:00\",\"2016-11-12 00:00:00\",\"2016-11-13 00:00:00\",\"2016-11-14 00:00:00\",\"2016-11-15 00:00:00\",\"2016-11-16 00:00:00\",\"2016-11-17 00:00:00\",\"2016-11-18 00:00:00\",\"2016-11-19 00:00:00\",\"2016-11-20 00:00:00\",\"2016-11-21 00:00:00\",\"2016-11-22 00:00:00\",\"2016-11-23 00:00:00\",\"2016-11-24 00:00:00\",\"2016-11-25 00:00:00\",\"2016-11-26 00:00:00\",\"2016-11-27 00:00:00\",\"2016-11-28 00:00:00\",\"2016-11-29 00:00:00\",\"2016-11-30 00:00:00\",\"2016-12-01 00:00:00\",\"2016-12-02 00:00:00\",\"2016-12-03 00:00:00\",\"2016-12-04 00:00:00\",\"2016-12-05 00:00:00\",\"2016-12-06 00:00:00\",\"2016-12-07 00:00:00\",\"2016-12-08 00:00:00\",\"2016-12-09 00:00:00\",\"2016-12-10 00:00:00\",\"2016-12-11 00:00:00\",\"2016-12-12 00:00:00\",\"2016-12-13 00:00:00\",\"2016-12-14 00:00:00\",\"2016-12-15 00:00:00\",\"2016-12-16 00:00:00\",\"2016-12-17 00:00:00\",\"2016-12-18 00:00:00\",\"2016-12-19 00:00:00\",\"2016-12-20 00:00:00\",\"2016-12-21 00:00:00\",\"2016-12-22 00:00:00\",\"2016-12-23 00:00:00\",\"2016-12-24 00:00:00\",\"2016-12-25 00:00:00\",\"2016-12-26 00:00:00\",\"2016-12-27 00:00:00\",\"2016-12-28 00:00:00\",\"2016-12-29 00:00:00\",\"2016-12-30 00:00:00\",\"2016-12-31 00:00:00\",\"2017-01-01 00:00:00\",\"2017-01-02 00:00:00\",\"2017-01-03 00:00:00\",\"2017-01-04 00:00:00\",\"2017-01-05 00:00:00\",\"2017-01-06 00:00:00\",\"2017-01-07 00:00:00\",\"2017-01-08 00:00:00\",\"2017-01-09 00:00:00\",\"2017-01-10 00:00:00\",\"2017-01-11 00:00:00\",\"2017-01-12 00:00:00\",\"2017-01-13 00:00:00\",\"2017-01-14 00:00:00\",\"2017-01-15 00:00:00\",\"2017-01-16 00:00:00\",\"2017-01-17 00:00:00\",\"2017-01-18 00:00:00\",\"2017-01-19 00:00:00\",\"2017-01-20 00:00:00\",\"2017-01-21 00:00:00\",\"2017-01-22 00:00:00\",\"2017-01-23 00:00:00\",\"2017-01-24 00:00:00\",\"2017-01-25 00:00:00\",\"2017-01-26 00:00:00\",\"2017-01-27 00:00:00\",\"2017-01-28 00:00:00\",\"2017-01-29 00:00:00\",\"2017-01-30 00:00:00\",\"2017-01-31 00:00:00\",\"2017-02-01 00:00:00\",\"2017-02-02 00:00:00\",\"2017-02-03 00:00:00\",\"2017-02-04 00:00:00\",\"2017-02-05 00:00:00\",\"2017-02-06 00:00:00\",\"2017-02-07 00:00:00\",\"2017-02-08 00:00:00\",\"2017-02-09 00:00:00\",\"2017-02-10 00:00:00\",\"2017-02-11 00:00:00\",\"2017-02-12 00:00:00\",\"2017-02-13 00:00:00\",\"2017-02-14 00:00:00\",\"2017-02-15 00:00:00\",\"2017-02-16 00:00:00\",\"2017-02-17 00:00:00\",\"2017-02-18 00:00:00\",\"2017-02-19 00:00:00\",\"2017-02-20 00:00:00\",\"2017-02-21 00:00:00\",\"2017-02-22 00:00:00\",\"2017-02-23 00:00:00\",\"2017-02-24 00:00:00\",\"2017-02-25 00:00:00\",\"2017-02-26 00:00:00\",\"2017-02-27 00:00:00\",\"2017-02-28 00:00:00\",\"2017-03-01 00:00:00\",\"2017-03-02 00:00:00\",\"2017-03-03 00:00:00\",\"2017-03-04 00:00:00\",\"2017-03-05 00:00:00\",\"2017-03-06 00:00:00\",\"2017-03-07 00:00:00\",\"2017-03-08 00:00:00\",\"2017-03-09 00:00:00\",\"2017-03-10 00:00:00\",\"2017-03-11 00:00:00\",\"2017-03-12 00:00:00\",\"2017-03-13 00:00:00\",\"2017-03-14 00:00:00\",\"2017-03-15 00:00:00\",\"2017-03-16 00:00:00\",\"2017-03-17 00:00:00\",\"2017-03-18 00:00:00\",\"2017-03-19 00:00:00\",\"2017-03-20 00:00:00\",\"2017-03-21 00:00:00\",\"2017-03-22 00:00:00\",\"2017-03-23 00:00:00\",\"2017-03-24 00:00:00\",\"2017-03-25 00:00:00\",\"2017-03-26 00:00:00\",\"2017-03-27 00:00:00\",\"2017-03-28 00:00:00\",\"2017-03-29 00:00:00\",\"2017-03-30 00:00:00\",\"2017-03-31 00:00:00\",\"2017-04-01 00:00:00\",\"2017-04-02 00:00:00\",\"2017-04-03 00:00:00\",\"2017-04-04 00:00:00\",\"2017-04-05 00:00:00\",\"2017-04-06 00:00:00\",\"2017-04-07 00:00:00\",\"2017-04-08 00:00:00\",\"2017-04-09 00:00:00\",\"2017-04-10 00:00:00\",\"2017-04-11 00:00:00\",\"2017-04-12 00:00:00\",\"2017-04-13 00:00:00\",\"2017-04-14 00:00:00\",\"2017-04-15 00:00:00\",\"2017-04-16 00:00:00\",\"2017-04-17 00:00:00\",\"2017-04-18 00:00:00\",\"2017-04-19 00:00:00\",\"2017-04-20 00:00:00\",\"2017-04-21 00:00:00\",\"2017-04-22 00:00:00\",\"2017-04-23 00:00:00\",\"2017-04-24 00:00:00\",\"2017-04-25 00:00:00\",\"2017-04-26 00:00:00\",\"2017-04-27 00:00:00\",\"2017-04-28 00:00:00\",\"2017-04-29 00:00:00\",\"2017-04-30 00:00:00\",\"2017-05-01 00:00:00\",\"2017-05-02 00:00:00\",\"2017-05-03 00:00:00\",\"2017-05-04 00:00:00\",\"2017-05-05 00:00:00\",\"2017-05-06 00:00:00\",\"2017-05-07 00:00:00\",\"2017-05-08 00:00:00\",\"2017-05-09 00:00:00\",\"2017-05-10 00:00:00\",\"2017-05-11 00:00:00\",\"2017-05-12 00:00:00\",\"2017-05-13 00:00:00\",\"2017-05-14 00:00:00\",\"2017-05-15 00:00:00\",\"2017-05-16 00:00:00\",\"2017-05-17 00:00:00\",\"2017-05-18 00:00:00\",\"2017-05-19 00:00:00\",\"2017-05-20 00:00:00\",\"2017-05-21 00:00:00\",\"2017-05-22 00:00:00\",\"2017-05-23 00:00:00\",\"2017-05-24 00:00:00\",\"2017-05-25 00:00:00\",\"2017-05-26 00:00:00\",\"2017-05-27 00:00:00\",\"2017-05-28 00:00:00\",\"2017-05-29 00:00:00\",\"2017-05-30 00:00:00\",\"2017-05-31 00:00:00\",\"2017-06-01 00:00:00\",\"2017-06-02 00:00:00\",\"2017-06-03 00:00:00\",\"2017-06-04 00:00:00\",\"2017-06-05 00:00:00\",\"2017-06-06 00:00:00\",\"2017-06-07 00:00:00\",\"2017-06-08 00:00:00\",\"2017-06-09 00:00:00\",\"2017-06-10 00:00:00\",\"2017-06-11 00:00:00\",\"2017-06-12 00:00:00\",\"2017-06-13 00:00:00\",\"2017-06-14 00:00:00\",\"2017-06-15 00:00:00\",\"2017-06-16 00:00:00\",\"2017-06-17 00:00:00\",\"2017-06-18 00:00:00\",\"2017-06-19 00:00:00\",\"2017-06-20 00:00:00\",\"2017-06-21 00:00:00\",\"2017-06-22 00:00:00\",\"2017-06-23 00:00:00\",\"2017-06-24 00:00:00\",\"2017-06-25 00:00:00\",\"2017-06-26 00:00:00\",\"2017-06-27 00:00:00\",\"2017-06-28 00:00:00\",\"2017-06-29 00:00:00\",\"2017-06-30 00:00:00\",\"2017-07-01 00:00:00\",\"2017-07-02 00:00:00\",\"2017-07-03 00:00:00\",\"2017-07-04 00:00:00\",\"2017-07-05 00:00:00\",\"2017-07-06 00:00:00\",\"2017-07-07 00:00:00\",\"2017-07-08 00:00:00\",\"2017-07-09 00:00:00\",\"2017-07-10 00:00:00\",\"2017-07-11 00:00:00\",\"2017-07-12 00:00:00\",\"2017-07-13 00:00:00\",\"2017-07-14 00:00:00\",\"2017-07-15 00:00:00\",\"2017-07-16 00:00:00\",\"2017-07-17 00:00:00\",\"2017-07-18 00:00:00\",\"2017-07-19 00:00:00\",\"2017-07-20 00:00:00\",\"2017-07-21 00:00:00\",\"2017-07-22 00:00:00\",\"2017-07-23 00:00:00\",\"2017-07-24 00:00:00\",\"2017-07-25 00:00:00\",\"2017-07-26 00:00:00\",\"2017-07-27 00:00:00\",\"2017-07-28 00:00:00\",\"2017-07-29 00:00:00\",\"2017-07-30 00:00:00\",\"2017-07-31 00:00:00\",\"2017-08-01 00:00:00\",\"2017-08-02 00:00:00\",\"2017-08-03 00:00:00\",\"2017-08-04 00:00:00\",\"2017-08-05 00:00:00\",\"2017-08-06 00:00:00\",\"2017-08-07 00:00:00\",\"2017-08-08 00:00:00\",\"2017-08-09 00:00:00\",\"2017-08-10 00:00:00\",\"2017-08-11 00:00:00\",\"2017-08-12 00:00:00\",\"2017-08-13 00:00:00\",\"2017-08-14 00:00:00\",\"2017-08-15 00:00:00\",\"2017-08-16 00:00:00\",\"2017-08-17 00:00:00\",\"2017-08-18 00:00:00\",\"2017-08-19 00:00:00\",\"2017-08-20 00:00:00\",\"2017-08-21 00:00:00\",\"2017-08-22 00:00:00\",\"2017-08-23 00:00:00\"],\"tags\":[[[\"Date\",\"Date\",null]]]},\"id\":\"1742\",\"type\":\"FactorRange\"},{\"attributes\":{\"source\":{\"id\":\"1774\"}},\"id\":\"1781\",\"type\":\"CDSView\"},{\"attributes\":{\"overlay\":{\"id\":\"1766\"}},\"id\":\"1764\",\"type\":\"BoxZoomTool\"},{\"attributes\":{},\"id\":\"1787\",\"type\":\"AllLabels\"},{\"attributes\":{\"text\":\"Hawaii Precipitation 8-23-2017 to 8-24-2018\",\"text_color\":\"black\",\"text_font_size\":\"12pt\"},\"id\":\"1746\",\"type\":\"Title\"},{\"attributes\":{\"axis_label\":\"Date\",\"formatter\":{\"id\":\"1783\"},\"major_label_policy\":{\"id\":\"1784\"},\"ticker\":{\"id\":\"1755\"}},\"id\":\"1754\",\"type\":\"CategoricalAxis\"},{\"attributes\":{\"bottom\":{\"value\":0},\"fill_alpha\":{\"value\":1.0},\"fill_color\":{\"value\":\"#30a2da\"},\"hatch_alpha\":{\"value\":1.0},\"hatch_color\":{\"value\":\"black\"},\"hatch_scale\":{\"value\":12.0},\"hatch_weight\":{\"value\":1.0},\"line_alpha\":{\"value\":1.0},\"line_cap\":{\"value\":\"butt\"},\"line_color\":{\"value\":\"black\"},\"line_dash\":{\"value\":[]},\"line_dash_offset\":{\"value\":0},\"line_join\":{\"value\":\"bevel\"},\"line_width\":{\"value\":1},\"top\":{\"field\":\"Precipitation\"},\"width\":{\"value\":0.8},\"x\":{\"field\":\"Date\"}},\"id\":\"1782\",\"type\":\"VBar\"},{\"attributes\":{\"children\":[{\"id\":\"1741\"},{\"id\":\"1745\"},{\"id\":\"1811\"}],\"margin\":[0,0,0,0],\"name\":\"Row02564\",\"tags\":[\"embedded\"]},\"id\":\"1740\",\"type\":\"Row\"},{\"attributes\":{\"axis\":{\"id\":\"1754\"},\"ticker\":{\"id\":\"1755\"}},\"id\":\"1756\",\"type\":\"Grid\"}],\"root_ids\":[\"1740\"]},\"title\":\"Bokeh Application\",\"version\":\"2.3.3\"}};\n",
       "    var render_items = [{\"docid\":\"477a174a-ded7-4619-b2ea-0dbe7dac9d49\",\"root_ids\":[\"1740\"],\"roots\":{\"1740\":\"faf09445-e17a-41eb-9e86-fe9e667221d1\"}}];\n",
       "    root.Bokeh.embed.embed_items_notebook(docs_json, render_items);\n",
       "  }\n",
       "  if (root.Bokeh !== undefined && root.Bokeh.Panel !== undefined) {\n",
       "    embed_document(root);\n",
       "  } else {\n",
       "    var attempts = 0;\n",
       "    var timer = setInterval(function(root) {\n",
       "      if (root.Bokeh !== undefined && root.Bokeh.Panel !== undefined) {\n",
       "        clearInterval(timer);\n",
       "        embed_document(root);\n",
       "      } else if (document.readyState == \"complete\") {\n",
       "        attempts++;\n",
       "        if (attempts > 200) {\n",
       "          clearInterval(timer);\n",
       "          console.log(\"Bokeh: ERROR: Unable to run BokehJS code because BokehJS library is missing\");\n",
       "        }\n",
       "      }\n",
       "    }, 25, root)\n",
       "  }\n",
       "})(window);</script>"
      ],
      "text/plain": [
       ":Bars   [Date]   (Precipitation)"
      ]
     },
     "execution_count": 28,
     "metadata": {
      "application/vnd.holoviews_exec.v0+json": {
       "id": "1740"
      }
     },
     "output_type": "execute_result"
    },
    {
     "data": {
      "text/plain": [
       "<Figure size 432x288 with 0 Axes>"
      ]
     },
     "metadata": {},
     "output_type": "display_data"
    }
   ],
   "source": [
    "# Use Pandas Plotting with Matplotlib to plot the data\n",
    "import hvplot.pandas\n",
    "\n",
    "prec_plot = prec_df.hvplot.bar(title='Hawaii Precipitation 8-23-2017 to 8-24-2018',\n",
    "                               ylabel='Precipitation (in)',\n",
    "                                   grid=True)\n",
    "plt.savefig(\"Output/Precipitation.png\")\n",
    "prec_plot"
   ]
  },
  {
   "cell_type": "code",
   "execution_count": 30,
   "metadata": {},
   "outputs": [
    {
     "data": {
      "text/html": [
       "<div>\n",
       "<style scoped>\n",
       "    .dataframe tbody tr th:only-of-type {\n",
       "        vertical-align: middle;\n",
       "    }\n",
       "\n",
       "    .dataframe tbody tr th {\n",
       "        vertical-align: top;\n",
       "    }\n",
       "\n",
       "    .dataframe thead th {\n",
       "        text-align: right;\n",
       "    }\n",
       "</style>\n",
       "<table border=\"1\" class=\"dataframe\">\n",
       "  <thead>\n",
       "    <tr style=\"text-align: right;\">\n",
       "      <th></th>\n",
       "      <th>Precipitation</th>\n",
       "    </tr>\n",
       "  </thead>\n",
       "  <tbody>\n",
       "    <tr>\n",
       "      <th>count</th>\n",
       "      <td>365.000000</td>\n",
       "    </tr>\n",
       "    <tr>\n",
       "      <th>mean</th>\n",
       "      <td>0.169987</td>\n",
       "    </tr>\n",
       "    <tr>\n",
       "      <th>std</th>\n",
       "      <td>0.295722</td>\n",
       "    </tr>\n",
       "    <tr>\n",
       "      <th>min</th>\n",
       "      <td>0.000000</td>\n",
       "    </tr>\n",
       "    <tr>\n",
       "      <th>25%</th>\n",
       "      <td>0.008571</td>\n",
       "    </tr>\n",
       "    <tr>\n",
       "      <th>50%</th>\n",
       "      <td>0.070000</td>\n",
       "    </tr>\n",
       "    <tr>\n",
       "      <th>75%</th>\n",
       "      <td>0.191667</td>\n",
       "    </tr>\n",
       "    <tr>\n",
       "      <th>max</th>\n",
       "      <td>2.380000</td>\n",
       "    </tr>\n",
       "  </tbody>\n",
       "</table>\n",
       "</div>"
      ],
      "text/plain": [
       "       Precipitation\n",
       "count     365.000000\n",
       "mean        0.169987\n",
       "std         0.295722\n",
       "min         0.000000\n",
       "25%         0.008571\n",
       "50%         0.070000\n",
       "75%         0.191667\n",
       "max         2.380000"
      ]
     },
     "execution_count": 30,
     "metadata": {},
     "output_type": "execute_result"
    }
   ],
   "source": [
    "# Use Pandas to calcualte the summary statistics for the precipitation data\n",
    "prec_df.describe()"
   ]
  },
  {
   "cell_type": "markdown",
   "metadata": {},
   "source": [
    "# Exploratory Station Analysis"
   ]
  },
  {
   "cell_type": "code",
   "execution_count": null,
   "metadata": {},
   "outputs": [],
   "source": [
    "# Design a query to calculate the total number stations in the dataset\n"
   ]
  },
  {
   "cell_type": "code",
   "execution_count": null,
   "metadata": {},
   "outputs": [],
   "source": [
    "# Design a query to find the most active stations (i.e. what stations have the most rows?)\n",
    "# List the stations and the counts in descending order.\n"
   ]
  },
  {
   "cell_type": "code",
   "execution_count": null,
   "metadata": {},
   "outputs": [],
   "source": [
    "# Using the most active station id from the previous query, calculate the lowest, highest, and average temperature.\n"
   ]
  },
  {
   "cell_type": "code",
   "execution_count": null,
   "metadata": {},
   "outputs": [],
   "source": [
    "# Using the most active station id\n",
    "# Query the last 12 months of temperature observation data for this station and plot the results as a histogram\n"
   ]
  },
  {
   "cell_type": "markdown",
   "metadata": {},
   "source": [
    "# Close session"
   ]
  },
  {
   "cell_type": "code",
   "execution_count": null,
   "metadata": {},
   "outputs": [],
   "source": [
    "# Close Session\n",
    "session.close()"
   ]
  },
  {
   "cell_type": "code",
   "execution_count": null,
   "metadata": {},
   "outputs": [],
   "source": []
  }
 ],
 "metadata": {
  "anaconda-cloud": {},
  "kernel_info": {
   "name": "python3"
  },
  "kernelspec": {
   "display_name": "Python [conda env:pyvizenv]",
   "language": "python",
   "name": "conda-env-pyvizenv-py"
  },
  "language_info": {
   "codemirror_mode": {
    "name": "ipython",
    "version": 3
   },
   "file_extension": ".py",
   "mimetype": "text/x-python",
   "name": "python",
   "nbconvert_exporter": "python",
   "pygments_lexer": "ipython3",
   "version": "3.7.11"
  },
  "nteract": {
   "version": "0.12.3"
  },
  "varInspector": {
   "cols": {
    "lenName": 16,
    "lenType": 16,
    "lenVar": 40
   },
   "kernels_config": {
    "python": {
     "delete_cmd_postfix": "",
     "delete_cmd_prefix": "del ",
     "library": "var_list.py",
     "varRefreshCmd": "print(var_dic_list())"
    },
    "r": {
     "delete_cmd_postfix": ") ",
     "delete_cmd_prefix": "rm(",
     "library": "var_list.r",
     "varRefreshCmd": "cat(var_dic_list()) "
    }
   },
   "types_to_exclude": [
    "module",
    "function",
    "builtin_function_or_method",
    "instance",
    "_Feature"
   ],
   "window_display": false
  }
 },
 "nbformat": 4,
 "nbformat_minor": 2
}
