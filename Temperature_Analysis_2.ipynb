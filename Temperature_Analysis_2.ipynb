{
 "cells": [
  {
   "cell_type": "code",
   "execution_count": 40,
   "metadata": {},
   "outputs": [],
   "source": [
    "%matplotlib inline\n",
    "from matplotlib import style\n",
    "style.use('fivethirtyeight')\n",
    "import matplotlib.pyplot as plt\n",
    "\n",
    "import numpy as np\n",
    "import pandas as pd\n",
    "import datetime as dt\n",
    "import hvplot.pandas"
   ]
  },
  {
   "cell_type": "markdown",
   "metadata": {},
   "source": [
    "## Reflect Tables into SQLALchemy ORM"
   ]
  },
  {
   "cell_type": "code",
   "execution_count": 41,
   "metadata": {},
   "outputs": [],
   "source": [
    "# Python SQL toolkit and Object Relational Mapper\n",
    "import sqlalchemy\n",
    "from sqlalchemy.ext.automap import automap_base\n",
    "from sqlalchemy.orm import Session\n",
    "from sqlalchemy import create_engine, func\n",
    "\n",
    "# create engine to hawaii.sqlite\n",
    "engine = create_engine(\"sqlite:///Resources/hawaii.sqlite\")\n",
    "\n",
    "# reflect an existing database into a new model\n",
    "Base = automap_base()\n",
    "# reflect the tables\n",
    "Base.prepare(engine, reflect=True)\n",
    "\n",
    "# View all of the classes that automap found\n",
    "Base.classes.keys()\n",
    "\n",
    "# Save references to each table\n",
    "Measurement = Base.classes.measurement\n",
    "Station = Base.classes.station\n",
    "\n",
    "# Create our session (link) from Python to the DB\n",
    "session = Session(engine)"
   ]
  },
  {
   "cell_type": "markdown",
   "metadata": {},
   "source": [
    "## Temperature Analysis II"
   ]
  },
  {
   "cell_type": "code",
   "execution_count": 42,
   "metadata": {},
   "outputs": [
    {
     "name": "stdout",
     "output_type": "stream",
     "text": [
      "[(62.0, 69.57142857142857, 74.0)]\n"
     ]
    }
   ],
   "source": [
    "# This function called `calc_temps` will accept start date and end date in the format '%Y-%m-%d' \n",
    "# and return the minimum, maximum, and average temperatures for that range of dates\n",
    "def calc_temps(start_date, end_date):\n",
    "    \"\"\"TMIN, TAVG, and TMAX for a list of dates.\n",
    "    \n",
    "    Args:\n",
    "        start_date (string): A date string in the format %Y-%m-%d\n",
    "        end_date (string): A date string in the format %Y-%m-%d\n",
    "        \n",
    "    Returns:\n",
    "        TMIN, TAVE, and TMAX\n",
    "    \"\"\"\n",
    "    \n",
    "    return session.query(func.min(Measurement.tobs), func.avg(Measurement.tobs), func.max(Measurement.tobs)).\\\n",
    "        filter(Measurement.date >= start_date).filter(Measurement.date <= end_date).all()\n",
    "\n",
    "# For example\n",
    "print(calc_temps('2012-02-28', '2012-03-05'))"
   ]
  },
  {
   "cell_type": "code",
   "execution_count": 43,
   "metadata": {},
   "outputs": [
    {
     "name": "stdout",
     "output_type": "stream",
     "text": [
      "[(72.0, 79.25, 83.0)]\n"
     ]
    }
   ],
   "source": [
    "# Use the function `calc_temps` to calculate the tmin, tavg, and tmax \n",
    "# for a year in the data set\n",
    "start_date = '2017-08-01'\n",
    "end_date = '2017-08-07'\n",
    "\n",
    "calculated_temps = calc_temps(start_date,end_date)\n",
    "print(calculated_temps)"
   ]
  },
  {
   "cell_type": "code",
   "execution_count": 44,
   "metadata": {},
   "outputs": [
    {
     "data": {
      "image/png": "[encoded data removed]",
      "text/plain": [
       "<Figure size 504x720 with 1 Axes>"
      ]
     },
     "metadata": {},
     "output_type": "display_data"
    }
   ],
   "source": [
    "# Plot the results from your previous query as a bar chart. \n",
    "# Use \"Trip Avg Temp\" as your Title\n",
    "# Use the average temperature for bar height (y value)\n",
    "# Use the peak-to-peak (tmax-tmin) value as the y error bar (yerr)\n",
    "temp_df = pd.DataFrame(calculated_temps,columns=['TMIN','TAVG','TMAX'])\n",
    "avg_temp = temp_df['TAVG']\n",
    "min_max_temp = temp_df.iloc[0]['TMAX'] - temp_df.iloc[0]['TMIN']\n",
    "avg_temp.plot(kind='bar', yerr=min_max_temp, figsize=(7,10), alpha=0.5, color='coral')\n",
    "plt.title(\"Trip Avg Temp\", fontsize=20)\n",
    "plt.ylabel(\"Temperature (F)\")\n",
    "plt.xticks([])\n",
    "plt.grid()\n",
    "# plt.savefig(\"Output/TripTempSummary.png\")\n",
    "plt.show()"
   ]
  },
  {
   "cell_type": "markdown",
   "metadata": {},
   "source": [
    "### Daily Rainfall Average"
   ]
  },
  {
   "cell_type": "code",
   "execution_count": 45,
   "metadata": {},
   "outputs": [],
   "source": [
    "# Calculate the total amount of rainfall per weather station for your trip dates using the previous year's \n",
    "# matching dates.\n",
    "# Sort this in descending order by precipitation amount and list the station, name, latitude, longitude, and elevation\n",
    "sel = [Measurement.station,func.sum(Measurement.prcp),\\\n",
    "       Station.name,Station.latitude,Station.longitude,Station.elevation]\n",
    "\n",
    "prec_data = session.query(*sel).filter(Measurement.station==Station.station).\\\n",
    "                    filter(Measurement.date >= start_date).\\\n",
    "                    filter(Measurement.date <= end_date).\\\n",
    "                    group_by(Measurement.station).\\\n",
    "                    order_by(func.sum(Measurement.prcp).desc()).all()"
   ]
  },
  {
   "cell_type": "code",
   "execution_count": 46,
   "metadata": {},
   "outputs": [
    {
     "data": {
      "text/plain": [
       "[('USC00516128', 0.36, 'MANOA LYON ARBO 785.2, HI US', 21.3331, -157.8025, 152.4),\n",
       " ('USC00514830', 0.22, 'KUALOA RANCH HEADQUARTERS 886.9, HI US', 21.5213, -157.8374, 7.0),\n",
       " ('USC00519281', 0.06, 'WAIHEE 837.5, HI US', 21.45167, -157.84888999999998, 32.9),\n",
       " ('USC00519397', 0.04, 'WAIKIKI 717.2, HI US', 21.2716, -157.8168, 3.0),\n",
       " ('USC00519523', 0.0, 'WAIMANALO EXPERIMENTAL FARM, HI US', 21.33556, -157.71139, 19.5)]"
      ]
     },
     "execution_count": 46,
     "metadata": {},
     "output_type": "execute_result"
    }
   ],
   "source": [
    "prec_data"
   ]
  },
  {
   "cell_type": "code",
   "execution_count": 47,
   "metadata": {},
   "outputs": [
    {
     "data": {
      "text/plain": [
       "[(62.0, 69.15384615384616, 77.0)]"
      ]
     },
     "execution_count": 47,
     "metadata": {},
     "output_type": "execute_result"
    }
   ],
   "source": [
    "# Use this function to calculate the daily normals \n",
    "# (i.e. the averages for tmin, tmax, and tavg for all historic data matching a specific month and day)\n",
    "\n",
    "def daily_normals(date):\n",
    "    \"\"\"Daily Normals.\n",
    "    \n",
    "    Args:\n",
    "        date (str): A date string in the format '%m-%d'\n",
    "        \n",
    "    Returns:\n",
    "        A list of tuples containing the daily normals, tmin, tavg, and tmax\n",
    "    \n",
    "    \"\"\"\n",
    "    \n",
    "    sel = [func.min(Measurement.tobs), func.avg(Measurement.tobs), func.max(Measurement.tobs)]\n",
    "    return session.query(*sel).filter(func.strftime(\"%m-%d\", Measurement.date) == date).all()\n",
    "\n",
    "# For example\n",
    "daily_normals(\"01-01\")"
   ]
  },
  {
   "cell_type": "code",
   "execution_count": 48,
   "metadata": {},
   "outputs": [
    {
     "data": {
      "text/html": [
       "<div>\n",
       "<style scoped>\n",
       "    .dataframe tbody tr th:only-of-type {\n",
       "        vertical-align: middle;\n",
       "    }\n",
       "\n",
       "    .dataframe tbody tr th {\n",
       "        vertical-align: top;\n",
       "    }\n",
       "\n",
       "    .dataframe thead th {\n",
       "        text-align: right;\n",
       "    }\n",
       "</style>\n",
       "<table border=\"1\" class=\"dataframe\">\n",
       "  <thead>\n",
       "    <tr style=\"text-align: right;\">\n",
       "      <th></th>\n",
       "      <th>Min_Temp</th>\n",
       "      <th>Avg_Temp</th>\n",
       "      <th>Max_Temp</th>\n",
       "    </tr>\n",
       "    <tr>\n",
       "      <th>Date</th>\n",
       "      <th></th>\n",
       "      <th></th>\n",
       "      <th></th>\n",
       "    </tr>\n",
       "  </thead>\n",
       "  <tbody>\n",
       "    <tr>\n",
       "      <th>2017-08-01</th>\n",
       "      <td>67.0</td>\n",
       "      <td>75.540000</td>\n",
       "      <td>83.0</td>\n",
       "    </tr>\n",
       "    <tr>\n",
       "      <th>2017-08-02</th>\n",
       "      <td>68.0</td>\n",
       "      <td>75.603774</td>\n",
       "      <td>84.0</td>\n",
       "    </tr>\n",
       "    <tr>\n",
       "      <th>2017-08-03</th>\n",
       "      <td>70.0</td>\n",
       "      <td>76.611111</td>\n",
       "      <td>85.0</td>\n",
       "    </tr>\n",
       "    <tr>\n",
       "      <th>2017-08-04</th>\n",
       "      <td>69.0</td>\n",
       "      <td>76.711538</td>\n",
       "      <td>84.0</td>\n",
       "    </tr>\n",
       "    <tr>\n",
       "      <th>2017-08-05</th>\n",
       "      <td>69.0</td>\n",
       "      <td>76.148148</td>\n",
       "      <td>82.0</td>\n",
       "    </tr>\n",
       "    <tr>\n",
       "      <th>2017-08-06</th>\n",
       "      <td>67.0</td>\n",
       "      <td>76.250000</td>\n",
       "      <td>83.0</td>\n",
       "    </tr>\n",
       "    <tr>\n",
       "      <th>2017-08-07</th>\n",
       "      <td>71.0</td>\n",
       "      <td>77.156863</td>\n",
       "      <td>83.0</td>\n",
       "    </tr>\n",
       "  </tbody>\n",
       "</table>\n",
       "</div>"
      ],
      "text/plain": [
       "            Min_Temp   Avg_Temp  Max_Temp\n",
       "Date                                     \n",
       "2017-08-01      67.0  75.540000      83.0\n",
       "2017-08-02      68.0  75.603774      84.0\n",
       "2017-08-03      70.0  76.611111      85.0\n",
       "2017-08-04      69.0  76.711538      84.0\n",
       "2017-08-05      69.0  76.148148      82.0\n",
       "2017-08-06      67.0  76.250000      83.0\n",
       "2017-08-07      71.0  77.156863      83.0"
      ]
     },
     "execution_count": 48,
     "metadata": {},
     "output_type": "execute_result"
    }
   ],
   "source": [
    "# calculate the daily normals for your trip\n",
    "# push each tuple of calculations into a list called `normals`\n",
    "\n",
    "# Set the start and end date of the trip\n",
    "start_date = '2017-08-01'\n",
    "end_date = '2017-08-07'\n",
    "\n",
    "# Use the start and end date to create a range of dates\n",
    "import datetime\n",
    "start_date2 = datetime.datetime.strptime(start_date, '%Y-%m-%d')\n",
    "end_date2 = datetime.datetime.strptime(end_date, '%Y-%m-%d')\n",
    "\n",
    "date_list = []\n",
    "tmin_list = []\n",
    "tavg_list = []\n",
    "tmax_list = []\n",
    "\n",
    "for x in range(int((end_date2-start_date2).days)+1):\n",
    "    date = start_date2 + datetime.timedelta(days=x)\n",
    "\n",
    "    # Strip off the year and save a list of strings in the format %m-%d\n",
    "    month_and_day = date.strftime(\"%m-%d\")\n",
    "    date_list.append(date)\n",
    "\n",
    "    # Use the `daily_normals` function to calculate the normals for each date string \n",
    "    # and append the results to a list called `normals`.\n",
    "    daily_normal = daily_normals(month_and_day)\n",
    "    tmin = daily_normal[0][0]\n",
    "    tavg = daily_normal[0][1]\n",
    "    tmax = daily_normal[0][2]\n",
    "    tmin_list.append(tmin)\n",
    "    tavg_list.append(tavg)\n",
    "    tmax_list.append(tmax)\n",
    "\n",
    "# Load the previous query results into a Pandas DataFrame and add the `trip_dates` range as the `date` index\n",
    "mult_list = {'Date':date_list,'Min_Temp':tmin_list,'Avg_Temp':tavg_list,'Max_Temp':tmax_list,}\n",
    "df = pd.DataFrame(mult_list)\n",
    "df.set_index('Date', inplace=True)\n",
    "df"
   ]
  },
  {
   "cell_type": "code",
   "execution_count": 49,
   "metadata": {
    "scrolled": true
   },
   "outputs": [
    {
     "data": {},
     "metadata": {},
     "output_type": "display_data"
    },
    {
     "data": {
      "application/vnd.holoviews_exec.v0+json": "",
      "text/html": [
       "<div id='10762'>\n",
       "\n",
       "\n",
       "\n",
       "\n",
       "\n",
       "  <div class=\"bk-root\" id=\"efa24373-7c91-4e83-b7ab-83060af98d13\" data-root-id=\"10762\"></div>\n",
       "</div>\n",
       "<script type=\"application/javascript\">(function(root) {\n",
       "  function embed_document(root) {\n",
       "    var docs_json = {\"b9ca7b60-023c-4216-965d-a71f7caf9c86\":{\"defs\":[{\"extends\":null,\"module\":null,\"name\":\"ReactiveHTML1\",\"overrides\":[],\"properties\":[]},{\"extends\":null,\"module\":null,\"name\":\"FlexBox1\",\"overrides\":[],\"properties\":[{\"default\":\"flex-start\",\"kind\":null,\"name\":\"align_content\"},{\"default\":\"flex-start\",\"kind\":null,\"name\":\"align_items\"},{\"default\":\"row\",\"kind\":null,\"name\":\"flex_direction\"},{\"default\":\"wrap\",\"kind\":null,\"name\":\"flex_wrap\"},{\"default\":\"flex-start\",\"kind\":null,\"name\":\"justify_content\"}]},{\"extends\":null,\"module\":null,\"name\":\"TemplateActions1\",\"overrides\":[],\"properties\":[{\"default\":0,\"kind\":null,\"name\":\"open_modal\"},{\"default\":0,\"kind\":null,\"name\":\"close_modal\"}]},{\"extends\":null,\"module\":null,\"name\":\"MaterialTemplateActions1\",\"overrides\":[],\"properties\":[{\"default\":0,\"kind\":null,\"name\":\"open_modal\"},{\"default\":0,\"kind\":null,\"name\":\"close_modal\"}]}],\"roots\":{\"references\":[{\"attributes\":{\"callback\":null,\"formatters\":{\"@{x}\":\"datetime\"},\"renderers\":[{\"id\":\"10813\"},{\"id\":\"10846\"},{\"id\":\"10880\"}],\"tags\":[\"hv_created\"],\"tooltips\":[[\"Variable\",\"@{Variable}\"],[\"Date\",\"@{Date}\"],[\"value\",\"@{value}\"]]},\"id\":\"10766\",\"type\":\"HoverTool\"},{\"attributes\":{\"days\":[1,4,7,10,13,16,19,22,25,28]},\"id\":\"10827\",\"type\":\"DaysTicker\"},{\"attributes\":{\"fill_alpha\":0.15,\"fill_color\":\"red\",\"line_alpha\":0.15,\"line_color\":\"red\",\"line_width\":4,\"x\":{\"field\":\"x\"},\"y\":{\"field\":\"y\"}},\"id\":\"10843\",\"type\":\"Patch\"},{\"attributes\":{\"fill_alpha\":0.2,\"fill_color\":\"red\",\"line_alpha\":0.2,\"line_color\":\"red\",\"line_width\":4,\"x\":{\"field\":\"x\"},\"y\":{\"field\":\"y\"}},\"id\":\"10845\",\"type\":\"Patch\"},{\"attributes\":{\"fill_alpha\":0.15,\"fill_color\":\"orange\",\"line_alpha\":0.15,\"line_color\":\"orange\",\"line_width\":4,\"x\":{\"field\":\"x\"},\"y\":{\"field\":\"y\"}},\"id\":\"10877\",\"type\":\"Patch\"},{\"attributes\":{},\"id\":\"10808\",\"type\":\"Selection\"},{\"attributes\":{\"fill_alpha\":0.2,\"fill_color\":\"orange\",\"line_alpha\":0.2,\"line_color\":\"orange\",\"line_width\":4,\"x\":{\"field\":\"x\"},\"y\":{\"field\":\"y\"}},\"id\":\"10879\",\"type\":\"Patch\"},{\"attributes\":{},\"id\":\"10786\",\"type\":\"SaveTool\"},{\"attributes\":{\"source\":{\"id\":\"10840\"}},\"id\":\"10847\",\"type\":\"CDSView\"},{\"attributes\":{},\"id\":\"10787\",\"type\":\"PanTool\"},{\"attributes\":{\"fill_alpha\":0.15,\"fill_color\":\"orange\",\"line_alpha\":0.15,\"line_color\":\"orange\",\"line_width\":4,\"x\":{\"field\":\"x\"},\"y\":{\"field\":\"y\"}},\"id\":\"10878\",\"type\":\"Patch\"},{\"attributes\":{},\"id\":\"10790\",\"type\":\"ResetTool\"},{\"attributes\":{\"source\":{\"id\":\"10807\"}},\"id\":\"10814\",\"type\":\"CDSView\"},{\"attributes\":{\"fill_alpha\":0.15,\"fill_color\":\"blue\",\"line_alpha\":0.15,\"line_color\":\"blue\",\"line_width\":4,\"x\":{\"field\":\"x\"},\"y\":{\"field\":\"y\"}},\"id\":\"10839\",\"type\":\"Patch\"},{\"attributes\":{\"fill_alpha\":0.15,\"fill_color\":\"red\",\"line_alpha\":0.15,\"line_color\":\"red\",\"line_width\":4,\"x\":{\"field\":\"x\"},\"y\":{\"field\":\"y\"}},\"id\":\"10873\",\"type\":\"Patch\"},{\"attributes\":{},\"id\":\"10788\",\"type\":\"WheelZoomTool\"},{\"attributes\":{\"overlay\":{\"id\":\"10791\"}},\"id\":\"10789\",\"type\":\"BoxZoomTool\"},{\"attributes\":{\"margin\":[5,5,5,5],\"name\":\"HSpacer13382\",\"sizing_mode\":\"stretch_width\"},\"id\":\"10763\",\"type\":\"Spacer\"},{\"attributes\":{},\"id\":\"10871\",\"type\":\"UnionRenderers\"},{\"attributes\":{\"children\":[{\"id\":\"10763\"},{\"id\":\"10769\"},{\"id\":\"11144\"}],\"margin\":[0,0,0,0],\"name\":\"Row13378\",\"tags\":[\"embedded\"]},\"id\":\"10762\",\"type\":\"Row\"},{\"attributes\":{},\"id\":\"10803\",\"type\":\"BasicTickFormatter\"},{\"attributes\":{\"data_source\":{\"id\":\"10874\"},\"glyph\":{\"id\":\"10877\"},\"hover_glyph\":null,\"muted_glyph\":{\"id\":\"10879\"},\"nonselection_glyph\":{\"id\":\"10878\"},\"selection_glyph\":{\"id\":\"10909\"},\"view\":{\"id\":\"10881\"}},\"id\":\"10880\",\"type\":\"GlyphRenderer\"},{\"attributes\":{\"data\":{\"x\":{\"__ndarray__\":\"AABAebHZdUIAAADfA9p1QgAAwERW2nVCAACAqqjadUIAAEAQ+9p1QgAAAHZN23VCAADA25/bdUIAAMDbn9t1QgAAAHZN23VCAABAEPvadUIAAICqqNp1QgAAwERW2nVCAAAA3wPadUIAAEB5sdl1Qg==\",\"dtype\":\"float64\",\"order\":\"little\",\"shape\":[14]},\"y\":{\"__ndarray__\":\"AAAAAAAAAAAAAAAAAAAAAAAAAAAAAAAAAAAAAAAAAAAAAAAAAAAAAAAAAAAAAAAAAAAAAAAAAAAAAAAAAMBRQAAAAAAAwFBAAAAAAABAUUAAAAAAAEBRQAAAAAAAgFFAAAAAAAAAUUAAAAAAAMBQQA==\",\"dtype\":\"float64\",\"order\":\"little\",\"shape\":[14]}},\"selected\":{\"id\":\"10808\"},\"selection_policy\":{\"id\":\"10836\"}},\"id\":\"10807\",\"type\":\"ColumnDataSource\"},{\"attributes\":{\"data\":{\"x\":{\"__ndarray__\":\"AABAebHZdUIAAADfA9p1QgAAwERW2nVCAACAqqjadUIAAEAQ+9p1QgAAAHZN23VCAADA25/bdUIAAMDbn9t1QgAAAHZN23VCAABAEPvadUIAAICqqNp1QgAAwERW2nVCAAAA3wPadUIAAEB5sdl1Qg==\",\"dtype\":\"float64\",\"order\":\"little\",\"shape\":[14]},\"y\":{\"__ndarray__\":\"AAAAAAAAAAAAAAAAAAAAAAAAAAAAAAAAAAAAAAAAAAAAAAAAAAAAAAAAAAAAAAAAAAAAAAAAAAAKCgoKCkpTQAAAAAAAEFNAmNBeQnsJU0DZiZ3YiS1TQHIcx3EcJ1NA8lb2OaTmUkDD9Shcj+JSQA==\",\"dtype\":\"float64\",\"order\":\"little\",\"shape\":[14]}},\"selected\":{\"id\":\"10841\"},\"selection_policy\":{\"id\":\"10871\"}},\"id\":\"10840\",\"type\":\"ColumnDataSource\"},{\"attributes\":{\"base\":60,\"mantissas\":[1,2,5,10,15,20,30],\"max_interval\":1800000.0,\"min_interval\":1000.0,\"num_minor_ticks\":0},\"id\":\"10824\",\"type\":\"AdaptiveTicker\"},{\"attributes\":{},\"id\":\"10801\",\"type\":\"AllLabels\"},{\"attributes\":{\"fill_alpha\":0.15,\"fill_color\":\"red\",\"line_alpha\":0.15,\"line_color\":\"red\",\"line_width\":4,\"x\":{\"field\":\"x\"},\"y\":{\"field\":\"y\"}},\"id\":\"10844\",\"type\":\"Patch\"},{\"attributes\":{\"margin\":[5,5,5,5],\"name\":\"HSpacer13383\",\"sizing_mode\":\"stretch_width\"},\"id\":\"11144\",\"type\":\"Spacer\"},{\"attributes\":{\"label\":{\"value\":\"Avg_Temp\"},\"renderers\":[{\"id\":\"10846\"}]},\"id\":\"10872\",\"type\":\"LegendItem\"},{\"attributes\":{\"days\":[1,2,3,4,5,6,7,8,9,10,11,12,13,14,15,16,17,18,19,20,21,22,23,24,25,26,27,28,29,30,31]},\"id\":\"10826\",\"type\":\"DaysTicker\"},{\"attributes\":{\"label\":{\"value\":\"Min_Temp\"},\"renderers\":[{\"id\":\"10813\"}]},\"id\":\"10838\",\"type\":\"LegendItem\"},{\"attributes\":{},\"id\":\"10841\",\"type\":\"Selection\"},{\"attributes\":{\"active_multi\":null,\"tools\":[{\"id\":\"10766\"},{\"id\":\"10786\"},{\"id\":\"10787\"},{\"id\":\"10788\"},{\"id\":\"10789\"},{\"id\":\"10790\"}]},\"id\":\"10792\",\"type\":\"Toolbar\"},{\"attributes\":{\"source\":{\"id\":\"10874\"}},\"id\":\"10881\",\"type\":\"CDSView\"},{\"attributes\":{\"days\":[1,8,15,22]},\"id\":\"10828\",\"type\":\"DaysTicker\"},{\"attributes\":{\"data_source\":{\"id\":\"10840\"},\"glyph\":{\"id\":\"10843\"},\"hover_glyph\":null,\"muted_glyph\":{\"id\":\"10845\"},\"nonselection_glyph\":{\"id\":\"10844\"},\"selection_glyph\":{\"id\":\"10873\"},\"view\":{\"id\":\"10847\"}},\"id\":\"10846\",\"type\":\"GlyphRenderer\"},{\"attributes\":{\"base\":24,\"mantissas\":[1,2,4,6,8,12],\"max_interval\":43200000.0,\"min_interval\":3600000.0,\"num_minor_ticks\":0},\"id\":\"10825\",\"type\":\"AdaptiveTicker\"},{\"attributes\":{\"data_source\":{\"id\":\"10807\"},\"glyph\":{\"id\":\"10810\"},\"hover_glyph\":null,\"muted_glyph\":{\"id\":\"10812\"},\"nonselection_glyph\":{\"id\":\"10811\"},\"selection_glyph\":{\"id\":\"10839\"},\"view\":{\"id\":\"10814\"}},\"id\":\"10813\",\"type\":\"GlyphRenderer\"},{\"attributes\":{\"bottom_units\":\"screen\",\"fill_alpha\":0.5,\"fill_color\":\"lightgrey\",\"left_units\":\"screen\",\"level\":\"overlay\",\"line_alpha\":1.0,\"line_color\":\"black\",\"line_dash\":[4,4],\"line_width\":2,\"right_units\":\"screen\",\"syncable\":false,\"top_units\":\"screen\"},\"id\":\"10791\",\"type\":\"BoxAnnotation\"},{\"attributes\":{},\"id\":\"10907\",\"type\":\"UnionRenderers\"},{\"attributes\":{\"data\":{\"x\":{\"__ndarray__\":\"AABAebHZdUIAAADfA9p1QgAAwERW2nVCAACAqqjadUIAAEAQ+9p1QgAAAHZN23VCAADA25/bdUIAAMDbn9t1QgAAAHZN23VCAABAEPvadUIAAICqqNp1QgAAwERW2nVCAAAA3wPadUIAAEB5sdl1Qg==\",\"dtype\":\"float64\",\"order\":\"little\",\"shape\":[14]},\"y\":{\"__ndarray__\":\"AAAAAAAAAAAAAAAAAAAAAAAAAAAAAAAAAAAAAAAAAAAAAAAAAAAAAAAAAAAAAAAAAAAAAAAAAAAAAAAAAMBUQAAAAAAAwFRAAAAAAACAVEAAAAAAAABVQAAAAAAAQFVAAAAAAAAAVUAAAAAAAMBUQA==\",\"dtype\":\"float64\",\"order\":\"little\",\"shape\":[14]}},\"selected\":{\"id\":\"10875\"},\"selection_policy\":{\"id\":\"10907\"}},\"id\":\"10874\",\"type\":\"ColumnDataSource\"},{\"attributes\":{\"label\":{\"value\":\"Max_Temp\"},\"renderers\":[{\"id\":\"10880\"}]},\"id\":\"10908\",\"type\":\"LegendItem\"},{\"attributes\":{},\"id\":\"10804\",\"type\":\"AllLabels\"},{\"attributes\":{\"months\":[0,1,2,3,4,5,6,7,8,9,10,11]},\"id\":\"10830\",\"type\":\"MonthsTicker\"},{\"attributes\":{\"days\":[1,15]},\"id\":\"10829\",\"type\":\"DaysTicker\"},{\"attributes\":{\"axis_label\":\"Date\",\"formatter\":{\"id\":\"10800\"},\"major_label_policy\":{\"id\":\"10801\"},\"ticker\":{\"id\":\"10779\"}},\"id\":\"10778\",\"type\":\"DatetimeAxis\"},{\"attributes\":{\"end\":1502064000000.0,\"reset_end\":1502064000000.0,\"reset_start\":1501545600000.0,\"start\":1501545600000.0,\"tags\":[[[\"Date\",\"Date\",null]]]},\"id\":\"10764\",\"type\":\"Range1d\"},{\"attributes\":{\"end\":86.8,\"reset_end\":86.8,\"reset_start\":0.0,\"tags\":[[[\"value\",\"value\",null]]]},\"id\":\"10765\",\"type\":\"Range1d\"},{\"attributes\":{\"months\":[0,2,4,6,8,10]},\"id\":\"10831\",\"type\":\"MonthsTicker\"},{\"attributes\":{\"below\":[{\"id\":\"10778\"}],\"center\":[{\"id\":\"10781\"},{\"id\":\"10785\"}],\"height\":400,\"left\":[{\"id\":\"10782\"}],\"margin\":[5,5,5,5],\"min_border_bottom\":10,\"min_border_left\":10,\"min_border_right\":10,\"min_border_top\":10,\"renderers\":[{\"id\":\"10813\"},{\"id\":\"10846\"},{\"id\":\"10880\"}],\"right\":[{\"id\":\"10837\"}],\"sizing_mode\":\"fixed\",\"title\":{\"id\":\"10770\"},\"toolbar\":{\"id\":\"10792\"},\"width\":800,\"x_range\":{\"id\":\"10764\"},\"x_scale\":{\"id\":\"10774\"},\"y_range\":{\"id\":\"10765\"},\"y_scale\":{\"id\":\"10776\"}},\"id\":\"10769\",\"subtype\":\"Figure\",\"type\":\"Plot\"},{\"attributes\":{\"fill_alpha\":0.15,\"fill_color\":\"blue\",\"line_alpha\":0.15,\"line_color\":\"blue\",\"line_width\":4,\"x\":{\"field\":\"x\"},\"y\":{\"field\":\"y\"}},\"id\":\"10810\",\"type\":\"Patch\"},{\"attributes\":{},\"id\":\"10875\",\"type\":\"Selection\"},{\"attributes\":{\"months\":[0,4,8]},\"id\":\"10832\",\"type\":\"MonthsTicker\"},{\"attributes\":{},\"id\":\"10800\",\"type\":\"DatetimeTickFormatter\"},{\"attributes\":{\"months\":[0,6]},\"id\":\"10833\",\"type\":\"MonthsTicker\"},{\"attributes\":{\"num_minor_ticks\":5,\"tickers\":[{\"id\":\"10823\"},{\"id\":\"10824\"},{\"id\":\"10825\"},{\"id\":\"10826\"},{\"id\":\"10827\"},{\"id\":\"10828\"},{\"id\":\"10829\"},{\"id\":\"10830\"},{\"id\":\"10831\"},{\"id\":\"10832\"},{\"id\":\"10833\"},{\"id\":\"10834\"}]},\"id\":\"10779\",\"type\":\"DatetimeTicker\"},{\"attributes\":{},\"id\":\"10774\",\"type\":\"LinearScale\"},{\"attributes\":{\"click_policy\":\"mute\",\"items\":[{\"id\":\"10838\"},{\"id\":\"10872\"},{\"id\":\"10908\"}],\"location\":[0,0],\"title\":\"Variable\"},\"id\":\"10837\",\"type\":\"Legend\"},{\"attributes\":{},\"id\":\"10776\",\"type\":\"LinearScale\"},{\"attributes\":{\"axis_label\":\"Temperature\",\"formatter\":{\"id\":\"10803\"},\"major_label_policy\":{\"id\":\"10804\"},\"ticker\":{\"id\":\"10783\"}},\"id\":\"10782\",\"type\":\"LinearAxis\"},{\"attributes\":{},\"id\":\"10834\",\"type\":\"YearsTicker\"},{\"attributes\":{\"axis\":{\"id\":\"10778\"},\"ticker\":{\"id\":\"10779\"}},\"id\":\"10781\",\"type\":\"Grid\"},{\"attributes\":{},\"id\":\"10783\",\"type\":\"BasicTicker\"},{\"attributes\":{\"text_color\":\"black\",\"text_font_size\":\"12pt\"},\"id\":\"10770\",\"type\":\"Title\"},{\"attributes\":{\"axis\":{\"id\":\"10782\"},\"dimension\":1,\"ticker\":{\"id\":\"10783\"}},\"id\":\"10785\",\"type\":\"Grid\"},{\"attributes\":{\"fill_alpha\":0.15,\"fill_color\":\"orange\",\"line_alpha\":0.15,\"line_color\":\"orange\",\"line_width\":4,\"x\":{\"field\":\"x\"},\"y\":{\"field\":\"y\"}},\"id\":\"10909\",\"type\":\"Patch\"},{\"attributes\":{\"mantissas\":[1,2,5],\"max_interval\":500.0,\"num_minor_ticks\":0},\"id\":\"10823\",\"type\":\"AdaptiveTicker\"},{\"attributes\":{},\"id\":\"10836\",\"type\":\"UnionRenderers\"},{\"attributes\":{\"fill_alpha\":0.2,\"fill_color\":\"blue\",\"line_alpha\":0.2,\"line_color\":\"blue\",\"line_width\":4,\"x\":{\"field\":\"x\"},\"y\":{\"field\":\"y\"}},\"id\":\"10812\",\"type\":\"Patch\"},{\"attributes\":{\"fill_alpha\":0.15,\"fill_color\":\"blue\",\"line_alpha\":0.15,\"line_color\":\"blue\",\"line_width\":4,\"x\":{\"field\":\"x\"},\"y\":{\"field\":\"y\"}},\"id\":\"10811\",\"type\":\"Patch\"}],\"root_ids\":[\"10762\"]},\"title\":\"Bokeh Application\",\"version\":\"2.3.3\"}};\n",
       "    var render_items = [{\"docid\":\"b9ca7b60-023c-4216-965d-a71f7caf9c86\",\"root_ids\":[\"10762\"],\"roots\":{\"10762\":\"efa24373-7c91-4e83-b7ab-83060af98d13\"}}];\n",
       "    root.Bokeh.embed.embed_items_notebook(docs_json, render_items);\n",
       "  }\n",
       "  if (root.Bokeh !== undefined && root.Bokeh.Panel !== undefined) {\n",
       "    embed_document(root);\n",
       "  } else {\n",
       "    var attempts = 0;\n",
       "    var timer = setInterval(function(root) {\n",
       "      if (root.Bokeh !== undefined && root.Bokeh.Panel !== undefined) {\n",
       "        clearInterval(timer);\n",
       "        embed_document(root);\n",
       "      } else if (document.readyState == \"complete\") {\n",
       "        attempts++;\n",
       "        if (attempts > 200) {\n",
       "          clearInterval(timer);\n",
       "          console.log(\"Bokeh: ERROR: Unable to run BokehJS code because BokehJS library is missing\");\n",
       "        }\n",
       "      }\n",
       "    }, 25, root)\n",
       "  }\n",
       "})(window);</script>"
      ],
      "text/plain": [
       ":NdOverlay   [Variable]\n",
       "   :Area   [Date]   (value)"
      ]
     },
     "execution_count": 49,
     "metadata": {
      "application/vnd.holoviews_exec.v0+json": {
       "id": "10762"
      }
     },
     "output_type": "execute_result"
    }
   ],
   "source": [
    "# Plot the daily normals as an area plot with `stacked=False`\n",
    "\n",
    "df.hvplot.area(width=800, height=400,\n",
    "               grid=True, alpha=0.15, stacked=False,\n",
    "               line_width=4, line_color=['blue','red','orange'],\n",
    "               fill_color=['blue','red','orange'], ylabel='Temperature')"
   ]
  },
  {
   "cell_type": "markdown",
   "metadata": {},
   "source": [
    "## Close Session"
   ]
  },
  {
   "cell_type": "code",
   "execution_count": 50,
   "metadata": {},
   "outputs": [],
   "source": [
    "session.close()"
   ]
  }
 ],
 "metadata": {
  "kernelspec": {
   "display_name": "Python [conda env:pyvizenv]",
   "language": "python",
   "name": "conda-env-pyvizenv-py"
  },
  "language_info": {
   "codemirror_mode": {
    "name": "ipython",
    "version": 3
   },
   "file_extension": ".py",
   "mimetype": "text/x-python",
   "name": "python",
   "nbconvert_exporter": "python",
   "pygments_lexer": "ipython3",
   "version": "3.7.11"
  }
 },
 "nbformat": 4,
 "nbformat_minor": 4
}
